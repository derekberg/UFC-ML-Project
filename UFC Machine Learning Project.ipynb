{
 "cells": [
  {
   "cell_type": "code",
   "execution_count": 3037,
   "id": "578edb5c",
   "metadata": {},
   "outputs": [],
   "source": [
    "import requests\n",
    "import csv\n",
    "import numpy as np\n",
    "import pandas as pd\n",
    "from unidecode import unidecode\n",
    "import time\n",
    "from bs4 import BeautifulSoup"
   ]
  },
  {
   "cell_type": "code",
   "execution_count": 4901,
   "id": "bbfb0f9f",
   "metadata": {},
   "outputs": [],
   "source": [
    "fights_url = \"http://ufcstats.com/statistics/events/completed?page=all\"\n",
    "\n",
    "data = requests.get(fights_url) # This gets the entire webpages HTML"
   ]
  },
  {
   "cell_type": "code",
   "execution_count": 4902,
   "id": "4f88ce51",
   "metadata": {},
   "outputs": [],
   "source": [
    "soup = BeautifulSoup(data.text) # gives us a BeautifulSoup object, which represents\n",
    "                                # the document as a nested data structure. Now we can use the BeautifulSoup library\n",
    "                                # to pull data out of the HTML (parser)"
   ]
  },
  {
   "cell_type": "code",
   "execution_count": 4903,
   "id": "d8c1a787",
   "metadata": {},
   "outputs": [],
   "source": [
    "fight_table = soup.select(\"table.b-statistics__table-events\")[0] \n",
    "# Selects all of the HTML within <table class=\"b-statistics__table-events\"</table>"
   ]
  },
  {
   "cell_type": "code",
   "execution_count": 4904,
   "id": "32a53bac",
   "metadata": {},
   "outputs": [],
   "source": [
    "links = fight_table.find_all('a')\n",
    "\n",
    "links = [l.get(\"href\") for l in links]\n",
    "\n",
    "fight_urls = links"
   ]
  },
  {
   "cell_type": "markdown",
   "id": "bdc7c3fc",
   "metadata": {},
   "source": [
    "# This section: requests each fight-card url individually, reads it, and adds the card to a df. It uses BeautifulSoup to parse the datetime. The date is split and striped from the time, and the string is converted to a timestamp. the date is added to the card df. The fighters names are seperated into winner and loser. The card df is concatinated onto itself. The time between loops is set to .5 seconds to avoid being disconnected by the website."
   ]
  },
  {
   "cell_type": "code",
   "execution_count": 4905,
   "id": "b5d87699",
   "metadata": {},
   "outputs": [],
   "source": [
    "df = pd.DataFrame() # data frame being created\n",
    "for fight_url in fight_urls:\n",
    "    data2 = requests.get(fight_url) # requesting each fight card individually\n",
    "    fights = pd.read_html(data2.text)\n",
    "    card = fights[0] # indexing to get each individual card\n",
    "    soup = BeautifulSoup(data2.text)\n",
    "    date = soup.select(\"li.b-list__box-list-item\") # uses bs to find date, separate date, and convert\n",
    "    date1 = str(date[0])                           # date to date time.\n",
    "    date2 = date1.split('\\n')\n",
    "    date = date2[-2].strip()\n",
    "    date = pd.to_datetime(date)\n",
    "    card['date'] = date\n",
    "    card[['w_fighter','l_fighter']] = card['Fighter'].str.split('  ', expand=True) # Both fighters are in the same\n",
    "    # cell. This sperates them into winner and loser.\n",
    "    df = pd.concat([df, card])\n",
    "    time.sleep(.5)\n",
    "    #count += 1\n"
   ]
  },
  {
   "cell_type": "code",
   "execution_count": 4910,
   "id": "0e1ecdc1",
   "metadata": {},
   "outputs": [],
   "source": [
    "#droping unneeded columns\n",
    "\n",
    "df = df.drop(['Fighter', 'Kd', 'Str', 'Td', 'Sub', 'Weight class', 'Method', 'Round', 'Time'], axis=1)"
   ]
  },
  {
   "cell_type": "code",
   "execution_count": 4911,
   "id": "353fbcc5",
   "metadata": {},
   "outputs": [],
   "source": [
    "# saving work\n",
    "\n",
    "df.to_csv('df', index=False)"
   ]
  },
  {
   "cell_type": "markdown",
   "id": "60537842",
   "metadata": {},
   "source": [
    "# Requests all the links from the fighters section of the website. The fighters are seperated alphabetically, so this puts each letter's url into a list. It also adds the beginning of the url for each fighter."
   ]
  },
  {
   "cell_type": "code",
   "execution_count": 3782,
   "id": "c9b25e1c",
   "metadata": {},
   "outputs": [],
   "source": [
    "fighters_url = 'http://ufcstats.com/statistics/fighters?char=s&page=all'\n",
    "\n",
    "data3 = requests.get(fighters_url)\n",
    "\n",
    "soup2 = BeautifulSoup(data3.text)\n",
    "\n",
    "alpha_links = soup2.select('ul.b-statistics__nav-items')[0]\n",
    "\n",
    "fighter_table = alpha_links.find_all('a')\n",
    "\n",
    "table_links = [l.get(\"href\") for l in fighter_table]\n",
    "\n",
    "tl2 = table_links\n",
    "\n",
    "tl2 = list(set(tl2))\n",
    "\n",
    "alpha_urls = [f\"http://ufcstats.com{l}\" for l in tl2]"
   ]
  },
  {
   "cell_type": "markdown",
   "id": "41c48c32",
   "metadata": {},
   "source": [
    "# Using the urls in alpha_urls, creating a df for the fighters. This includes height and reach. "
   ]
  },
  {
   "cell_type": "code",
   "execution_count": null,
   "id": "a4e88f0c",
   "metadata": {},
   "outputs": [],
   "source": [
    "fighter_df = pd.DataFrame()\n",
    "for letter in alpha_urls:\n",
    "    data5 = requests.get(letter)\n",
    "    soup3 = BeautifulSoup(data5.text)\n",
    "    full_letter = soup3.select('li.b-statistics__paginate-item')[-1]\n",
    "    full_table = full_letter.find_all('a')\n",
    "    ft_link = [l.get('href') for l in full_table]\n",
    "    data6 = requests.get(ft_link[0])\n",
    "    fighters = pd.read_html(data6.text)\n",
    "    page = fighters[0]\n",
    "    fighter_df = pd.concat([fighter_df, page])\n",
    "    time.sleep(.5)\n"
   ]
  },
  {
   "cell_type": "markdown",
   "id": "7adad81f",
   "metadata": {},
   "source": [
    "# Drop unneeded columns. Combine the columns 'First' and 'Last' into column 'fighter'."
   ]
  },
  {
   "cell_type": "code",
   "execution_count": 4376,
   "id": "5832d078",
   "metadata": {},
   "outputs": [],
   "source": [
    "fighter_df = fighter_df.drop(['Nickname', 'Stance', 'W', 'L', 'D', 'Belt'], axis=1)\n",
    "\n",
    "fighter_df['fighter'] = fighter_df['First'] + ' ' + fighter_df['Last']\n",
    "\n",
    "fighter_df = fighter_df.reset_index()\n",
    "\n",
    "fighter_df = fighter_df.drop(['index'], axis=1)\n",
    "\n",
    "fighter_df = fighter_df.drop(['First', 'Last'], axis=1)"
   ]
  },
  {
   "cell_type": "code",
   "execution_count": 3056,
   "id": "d53d4539",
   "metadata": {},
   "outputs": [],
   "source": [
    "fighter_df.to_csv('fighter_df', index=False)"
   ]
  },
  {
   "cell_type": "markdown",
   "id": "cfbcb5be",
   "metadata": {},
   "source": [
    "# df2 reverses fighter and opponent and gives all the fighters losses. Then it will be concatenated with df and both fighters from every fight will have their own row. df3 is the resulting table."
   ]
  },
  {
   "cell_type": "code",
   "execution_count": 4924,
   "id": "22739e6e",
   "metadata": {},
   "outputs": [],
   "source": [
    "# creating a new df to alter\n",
    "\n",
    "df2 = df.copy()"
   ]
  },
  {
   "cell_type": "code",
   "execution_count": 5276,
   "id": "ed62a92a",
   "metadata": {},
   "outputs": [],
   "source": [
    "# changing the result from all wins to all losses\n",
    "\n",
    "df2['W/L'][df2['W/L'] == 'win'] = 'loss'  "
   ]
  },
  {
   "cell_type": "code",
   "execution_count": 4925,
   "id": "dd05992b",
   "metadata": {},
   "outputs": [],
   "source": [
    "# assigns the losing fighter to 'fighter' and the winning fighter to 'opponent'\n",
    "\n",
    "df2 = df2.rename(columns={'fighter':'opponent', 'opponent':'fighter'})"
   ]
  },
  {
   "cell_type": "code",
   "execution_count": 4907,
   "id": "4f14acdd",
   "metadata": {},
   "outputs": [],
   "source": [
    "# assingns the winning fighter to 'fighter' and the losing fighter to 'opponent'\n",
    "\n",
    "df = df.rename(columns={'w_fighter':'fighter', 'l_fighter':'opponent'})"
   ]
  },
  {
   "cell_type": "code",
   "execution_count": 4928,
   "id": "45c0745c",
   "metadata": {},
   "outputs": [],
   "source": [
    "# doubles the rows. Each fighter is now in the 'figther' column and the 'opponent' column for each fight.\n",
    "\n",
    "df3 = pd.concat([df.copy(),df2.copy()])"
   ]
  },
  {
   "cell_type": "code",
   "execution_count": 5278,
   "id": "d60457e8",
   "metadata": {},
   "outputs": [
    {
     "data": {
      "text/html": [
       "<div>\n",
       "<style scoped>\n",
       "    .dataframe tbody tr th:only-of-type {\n",
       "        vertical-align: middle;\n",
       "    }\n",
       "\n",
       "    .dataframe tbody tr th {\n",
       "        vertical-align: top;\n",
       "    }\n",
       "\n",
       "    .dataframe thead th {\n",
       "        text-align: right;\n",
       "    }\n",
       "</style>\n",
       "<table border=\"1\" class=\"dataframe\">\n",
       "  <thead>\n",
       "    <tr style=\"text-align: right;\">\n",
       "      <th></th>\n",
       "      <th>win</th>\n",
       "      <th>date</th>\n",
       "      <th>fighter</th>\n",
       "      <th>opponent</th>\n",
       "      <th>fighter_ht</th>\n",
       "      <th>fighter_wt</th>\n",
       "      <th>fighter_reach</th>\n",
       "      <th>opponent_ht</th>\n",
       "      <th>opponent_wt</th>\n",
       "      <th>opponent_reach</th>\n",
       "    </tr>\n",
       "  </thead>\n",
       "  <tbody>\n",
       "    <tr>\n",
       "      <th>0</th>\n",
       "      <td>NaN</td>\n",
       "      <td>2023-11-04</td>\n",
       "      <td>Jailton Almeida</td>\n",
       "      <td>Derrick Lewis</td>\n",
       "      <td>6' 3\"</td>\n",
       "      <td>205 lbs.</td>\n",
       "      <td>79.0\"</td>\n",
       "      <td>6' 3\"</td>\n",
       "      <td>260 lbs.</td>\n",
       "      <td>79.0\"</td>\n",
       "    </tr>\n",
       "    <tr>\n",
       "      <th>1</th>\n",
       "      <td>0</td>\n",
       "      <td>2018-10-06</td>\n",
       "      <td>Alexander Volkov</td>\n",
       "      <td>Derrick Lewis</td>\n",
       "      <td>6' 7\"</td>\n",
       "      <td>250 lbs.</td>\n",
       "      <td>80.0\"</td>\n",
       "      <td>6' 3\"</td>\n",
       "      <td>260 lbs.</td>\n",
       "      <td>79.0\"</td>\n",
       "    </tr>\n",
       "    <tr>\n",
       "      <th>2</th>\n",
       "      <td>1</td>\n",
       "      <td>2021-08-07</td>\n",
       "      <td>Ciryl Gane</td>\n",
       "      <td>Derrick Lewis</td>\n",
       "      <td>6' 4\"</td>\n",
       "      <td>245 lbs.</td>\n",
       "      <td>81.0\"</td>\n",
       "      <td>6' 3\"</td>\n",
       "      <td>260 lbs.</td>\n",
       "      <td>79.0\"</td>\n",
       "    </tr>\n",
       "    <tr>\n",
       "      <th>3</th>\n",
       "      <td>0</td>\n",
       "      <td>2023-07-29</td>\n",
       "      <td>Marcos Rogerio de Lima</td>\n",
       "      <td>Derrick Lewis</td>\n",
       "      <td>6' 1\"</td>\n",
       "      <td>253 lbs.</td>\n",
       "      <td>75.0\"</td>\n",
       "      <td>6' 3\"</td>\n",
       "      <td>260 lbs.</td>\n",
       "      <td>79.0\"</td>\n",
       "    </tr>\n",
       "    <tr>\n",
       "      <th>4</th>\n",
       "      <td>1</td>\n",
       "      <td>2022-07-30</td>\n",
       "      <td>Sergei Pavlovich</td>\n",
       "      <td>Derrick Lewis</td>\n",
       "      <td>6' 3\"</td>\n",
       "      <td>257 lbs.</td>\n",
       "      <td>84.0\"</td>\n",
       "      <td>6' 3\"</td>\n",
       "      <td>260 lbs.</td>\n",
       "      <td>79.0\"</td>\n",
       "    </tr>\n",
       "    <tr>\n",
       "      <th>...</th>\n",
       "      <td>...</td>\n",
       "      <td>...</td>\n",
       "      <td>...</td>\n",
       "      <td>...</td>\n",
       "      <td>...</td>\n",
       "      <td>...</td>\n",
       "      <td>...</td>\n",
       "      <td>...</td>\n",
       "      <td>...</td>\n",
       "      <td>...</td>\n",
       "    </tr>\n",
       "    <tr>\n",
       "      <th>14785</th>\n",
       "      <td>0</td>\n",
       "      <td>1997-02-07</td>\n",
       "      <td>Eric Martin</td>\n",
       "      <td>Justin Martin</td>\n",
       "      <td>--</td>\n",
       "      <td>--</td>\n",
       "      <td>--</td>\n",
       "      <td>6' 0\"</td>\n",
       "      <td>185 lbs.</td>\n",
       "      <td>--</td>\n",
       "    </tr>\n",
       "    <tr>\n",
       "      <th>14786</th>\n",
       "      <td>0</td>\n",
       "      <td>1996-05-17</td>\n",
       "      <td>Matt Andersen</td>\n",
       "      <td>Rafael Carino</td>\n",
       "      <td>6' 2\"</td>\n",
       "      <td>230 lbs.</td>\n",
       "      <td>--</td>\n",
       "      <td>6' 8\"</td>\n",
       "      <td>245 lbs.</td>\n",
       "      <td>--</td>\n",
       "    </tr>\n",
       "    <tr>\n",
       "      <th>14787</th>\n",
       "      <td>0</td>\n",
       "      <td>1995-09-08</td>\n",
       "      <td>Francesco Maturi</td>\n",
       "      <td>Onassis Parungao</td>\n",
       "      <td>--</td>\n",
       "      <td>--</td>\n",
       "      <td>--</td>\n",
       "      <td>5' 11\"</td>\n",
       "      <td>200 lbs.</td>\n",
       "      <td>--</td>\n",
       "    </tr>\n",
       "    <tr>\n",
       "      <th>14788</th>\n",
       "      <td>0</td>\n",
       "      <td>1995-04-07</td>\n",
       "      <td>Andy Anderson</td>\n",
       "      <td>Jon Hess</td>\n",
       "      <td>5' 6\"</td>\n",
       "      <td>240 lbs.</td>\n",
       "      <td>--</td>\n",
       "      <td>6' 7\"</td>\n",
       "      <td>295 lbs.</td>\n",
       "      <td>--</td>\n",
       "    </tr>\n",
       "    <tr>\n",
       "      <th>14789</th>\n",
       "      <td>0</td>\n",
       "      <td>1994-03-11</td>\n",
       "      <td>Thaddeus Luster</td>\n",
       "      <td>Frank Hamaker</td>\n",
       "      <td>6' 3\"</td>\n",
       "      <td>210 lbs.</td>\n",
       "      <td>--</td>\n",
       "      <td>--</td>\n",
       "      <td>--</td>\n",
       "      <td>--</td>\n",
       "    </tr>\n",
       "  </tbody>\n",
       "</table>\n",
       "<p>14790 rows × 10 columns</p>\n",
       "</div>"
      ],
      "text/plain": [
       "       win        date                 fighter          opponent fighter_ht  \\\n",
       "0      NaN  2023-11-04         Jailton Almeida     Derrick Lewis      6' 3\"   \n",
       "1        0  2018-10-06        Alexander Volkov     Derrick Lewis      6' 7\"   \n",
       "2        1  2021-08-07              Ciryl Gane     Derrick Lewis      6' 4\"   \n",
       "3        0  2023-07-29  Marcos Rogerio de Lima     Derrick Lewis      6' 1\"   \n",
       "4        1  2022-07-30        Sergei Pavlovich     Derrick Lewis      6' 3\"   \n",
       "...    ...         ...                     ...               ...        ...   \n",
       "14785    0  1997-02-07             Eric Martin     Justin Martin         --   \n",
       "14786    0  1996-05-17           Matt Andersen     Rafael Carino      6' 2\"   \n",
       "14787    0  1995-09-08        Francesco Maturi  Onassis Parungao         --   \n",
       "14788    0  1995-04-07           Andy Anderson          Jon Hess      5' 6\"   \n",
       "14789    0  1994-03-11         Thaddeus Luster     Frank Hamaker      6' 3\"   \n",
       "\n",
       "      fighter_wt fighter_reach opponent_ht opponent_wt opponent_reach  \n",
       "0       205 lbs.         79.0\"       6' 3\"    260 lbs.          79.0\"  \n",
       "1       250 lbs.         80.0\"       6' 3\"    260 lbs.          79.0\"  \n",
       "2       245 lbs.         81.0\"       6' 3\"    260 lbs.          79.0\"  \n",
       "3       253 lbs.         75.0\"       6' 3\"    260 lbs.          79.0\"  \n",
       "4       257 lbs.         84.0\"       6' 3\"    260 lbs.          79.0\"  \n",
       "...          ...           ...         ...         ...            ...  \n",
       "14785         --            --       6' 0\"    185 lbs.             --  \n",
       "14786   230 lbs.            --       6' 8\"    245 lbs.             --  \n",
       "14787         --            --      5' 11\"    200 lbs.             --  \n",
       "14788   240 lbs.            --       6' 7\"    295 lbs.             --  \n",
       "14789   210 lbs.            --          --          --             --  \n",
       "\n",
       "[14790 rows x 10 columns]"
      ]
     },
     "execution_count": 5278,
     "metadata": {},
     "output_type": "execute_result"
    }
   ],
   "source": [
    "df3"
   ]
  },
  {
   "cell_type": "code",
   "execution_count": 4930,
   "id": "bebaca38",
   "metadata": {},
   "outputs": [],
   "source": [
    "# changes the result columns name to 'win'\n",
    "\n",
    "df3 = df3.rename(columns={'W/L':'win'})"
   ]
  },
  {
   "cell_type": "markdown",
   "id": "d5befc57",
   "metadata": {},
   "source": [
    "# df3 is merged with fighter_df to add the height, weight, and reach of each fighter."
   ]
  },
  {
   "cell_type": "code",
   "execution_count": 4931,
   "id": "0e312e31",
   "metadata": {
    "scrolled": true
   },
   "outputs": [],
   "source": [
    "df3 = df3.merge(fighter_df, left_on='fighter', right_on='fighter')"
   ]
  },
  {
   "cell_type": "markdown",
   "id": "89020a76",
   "metadata": {},
   "source": [
    "# The win column is converted to numerals. This will be the label when we create a ML model."
   ]
  },
  {
   "cell_type": "code",
   "execution_count": 4934,
   "id": "aa8e1f9b",
   "metadata": {},
   "outputs": [],
   "source": [
    "df3['win'][df3['win']=='win']=1\n",
    "df3['win'][df3['win']=='loss']=0\n",
    "df3['win'][df3['win']== 'draw  draw']=2\n",
    "df3['win'][df3['win']== 'nc  nc']=2"
   ]
  },
  {
   "cell_type": "code",
   "execution_count": 4935,
   "id": "139129d4",
   "metadata": {},
   "outputs": [],
   "source": [
    "# Renaming columns for clarity\n",
    "\n",
    "df3 = df3.rename(columns={'Ht.':'fighter_ht', 'Wt.':'fighter_wt', 'Reach':'fighter_reach'})"
   ]
  },
  {
   "cell_type": "markdown",
   "id": "b7d09035",
   "metadata": {},
   "source": [
    "# Merging each fighter in fighter_df onto the opponent in df3. This adds height, weight, and reach for each opponent."
   ]
  },
  {
   "cell_type": "code",
   "execution_count": 4936,
   "id": "0d1d5d6b",
   "metadata": {},
   "outputs": [],
   "source": [
    "df3 = df3.merge(fighter_df, left_on='opponent', right_on='fighter')"
   ]
  },
  {
   "cell_type": "code",
   "execution_count": 3541,
   "id": "d16d8502",
   "metadata": {},
   "outputs": [],
   "source": [
    "df3.to_csv('df3', index=False)"
   ]
  },
  {
   "cell_type": "code",
   "execution_count": 4940,
   "id": "2f38c286",
   "metadata": {},
   "outputs": [],
   "source": [
    "# renaming columns for clarity\n",
    "\n",
    "df3 = df3.rename(columns={'Ht.':'opponent_ht', 'Wt.':'opponent_wt', 'Reach':'opponent_reach', 'fighter_x':'fighter'})\\\n",
    ".drop(['fighter_y'], axis=1)"
   ]
  },
  {
   "cell_type": "markdown",
   "id": "1a182c31",
   "metadata": {},
   "source": [
    "# This takes the name of every fighter from our list of fights and creates a wikipedia link. These links give us access to a table of fights for each fighter, giving us the records of the fighters. We can use this to establish the record of both fighters before the 'win' result happens."
   ]
  },
  {
   "cell_type": "code",
   "execution_count": null,
   "id": "4eae32fd",
   "metadata": {},
   "outputs": [],
   "source": [
    "fighter_names = df3['fighter'].tolist()\n",
    "\n",
    "lst2 = []\n",
    "for _ in fighter_names:\n",
    "    _ = _.replace(' ','_')\n",
    "    lst2.append(_)\n",
    "    \n",
    "wiki_url = [f\"https://en.wikipedia.org/wiki/{l}\" for l in lst2]"
   ]
  },
  {
   "cell_type": "code",
   "execution_count": 3093,
   "id": "4d4663c3",
   "metadata": {},
   "outputs": [
    {
     "data": {
      "text/plain": [
       "14622"
      ]
     },
     "execution_count": 3093,
     "metadata": {},
     "output_type": "execute_result"
    }
   ],
   "source": [
    "len(wiki_url)"
   ]
  },
  {
   "cell_type": "code",
   "execution_count": null,
   "id": "d2cc1de2",
   "metadata": {},
   "outputs": [],
   "source": [
    "m3 = pd.DataFrame()\n",
    "for i in [2,3,4,5,-1,-2,-3,-4,-5]:\n",
    "    for fighter in wiki_url:\n",
    "        data7 = requests.get(fighter)\n",
    "        y = pd.read_html(data7.text)\n",
    "        try:\n",
    "        soup7 = BeautifulSoup(data7.text)\n",
    "        table = y[i] \n",
    "        head = soup7.head\n",
    "        name = head.title.string\n",
    "        fighter = name.split('-')[0].strip()\n",
    "        table['fighter'] = unidecode(fighter)\n",
    "        m3 = pd.concat([m3, table])\n",
    "        except:\n",
    "            continue\n",
    "    time.sleep(.5)\n"
   ]
  },
  {
   "cell_type": "markdown",
   "id": "a785673d",
   "metadata": {},
   "source": [
    "# Creating a new df to alter"
   ]
  },
  {
   "cell_type": "code",
   "execution_count": null,
   "id": "24fb046a",
   "metadata": {},
   "outputs": [],
   "source": [
    "df10 = df3.copy()"
   ]
  },
  {
   "cell_type": "code",
   "execution_count": 4592,
   "id": "f197a290",
   "metadata": {},
   "outputs": [],
   "source": [
    "df10.to_csv('df10', index=False)"
   ]
  },
  {
   "cell_type": "markdown",
   "id": "fdd40b9c",
   "metadata": {},
   "source": [
    "# Changing the names of the columns, reducing the number of columns, removing NaNs, changing date type to datetime."
   ]
  },
  {
   "cell_type": "code",
   "execution_count": 3699,
   "id": "c27a76f0",
   "metadata": {},
   "outputs": [],
   "source": [
    "m3 = m3.rename(columns={'Date':'date', 'Opponent':'opponent', 'Record':'record'})\n",
    "\n",
    "m3 = m3[['date', 'fighter', 'opponent', 'record']]\n",
    "\n",
    "m3 = m3[~m3['record'].isna()]\n",
    "\n",
    "m3['date'] = pd.to_datetime(m3['date'], errors='coerce')\n",
    "\n",
    "m3 = m3[~m3['date'].isna()]\n",
    "\n",
    "#m3['fighter'] = m3['fighter'].map(lambda x: x.rstrip('(fighter)'))"
   ]
  },
  {
   "cell_type": "markdown",
   "id": "7ab9a07f",
   "metadata": {},
   "source": [
    "# Merging m3 to df10. merging the two record columns into one. This is usful if I have to create multiple m3s to scrape every wiki table. I hope to make m3 complete on the first scrape."
   ]
  },
  {
   "cell_type": "code",
   "execution_count": 3700,
   "id": "f06e1f59",
   "metadata": {},
   "outputs": [],
   "source": [
    "df10 = df10.merge(m3, how='left', on=['date', 'fighter'])\n",
    "\n",
    "df10 = df10.rename(columns={'opponent_x': 'opponent'})\n",
    "\n",
    "df10 = df10.drop(['opponent_y'], axis=1)\n",
    "\n",
    "df10['record'] = np.where(df10['record_x'].isnull(), df10['record_y'], df10['record_x'])\n",
    "\n",
    "df10 = df10.drop(['record_x', 'record_y'], axis=1)"
   ]
  },
  {
   "cell_type": "code",
   "execution_count": 4468,
   "id": "ebda817d",
   "metadata": {},
   "outputs": [],
   "source": [
    "# There are two Bruno Silvas. This seperates out the Bruno Silva that will stay in the df\n",
    "\n",
    "j = df10[((df10['fighter'] == 'Bruno Silva')&(df10['fighter_wt']!='185 lbs.'))\\\n",
    "         |(df10['opponent'] == 'Bruno Silva')&(df10['opponent_wt']!='185 lbs.')|\\\n",
    "        (df10['opponent'] == 'Bruno Silva')& (df10['fighter_wt'] == '125 lbs.')|\\\n",
    "        (df10['opponent'] == 'Bruno Silva')& (df10['fighter_wt'] == '135 lbs.')].index\n",
    "df10.drop(j, inplace=True)"
   ]
  },
  {
   "cell_type": "code",
   "execution_count": 4455,
   "id": "d612e19c",
   "metadata": {},
   "outputs": [],
   "source": [
    "# when I read in the saved df, I have to convert the date to datetime.\n",
    "\n",
    "df10 = pd.read_csv('df10')\n",
    "\n",
    "df10['date'] = pd.to_datetime(df10['date'], errors='coerce')"
   ]
  },
  {
   "cell_type": "code",
   "execution_count": 5279,
   "id": "9dd2e7e3",
   "metadata": {},
   "outputs": [
    {
     "data": {
      "text/html": [
       "<div>\n",
       "<style scoped>\n",
       "    .dataframe tbody tr th:only-of-type {\n",
       "        vertical-align: middle;\n",
       "    }\n",
       "\n",
       "    .dataframe tbody tr th {\n",
       "        vertical-align: top;\n",
       "    }\n",
       "\n",
       "    .dataframe thead th {\n",
       "        text-align: right;\n",
       "    }\n",
       "</style>\n",
       "<table border=\"1\" class=\"dataframe\">\n",
       "  <thead>\n",
       "    <tr style=\"text-align: right;\">\n",
       "      <th></th>\n",
       "      <th>win</th>\n",
       "      <th>date</th>\n",
       "      <th>fighter</th>\n",
       "      <th>opponent</th>\n",
       "      <th>fighter_ht</th>\n",
       "      <th>fighter_wt</th>\n",
       "      <th>fighter_reach</th>\n",
       "      <th>opponent_ht</th>\n",
       "      <th>opponent_wt</th>\n",
       "      <th>opponent_reach</th>\n",
       "      <th>record</th>\n",
       "    </tr>\n",
       "  </thead>\n",
       "  <tbody>\n",
       "    <tr>\n",
       "      <th>0</th>\n",
       "      <td>0</td>\n",
       "      <td>2023-09-16</td>\n",
       "      <td>Alexa Grasso</td>\n",
       "      <td>Valentina Shevchenko</td>\n",
       "      <td>5' 5\"</td>\n",
       "      <td>125 lbs.</td>\n",
       "      <td>66.0\"</td>\n",
       "      <td>5' 5\"</td>\n",
       "      <td>125 lbs.</td>\n",
       "      <td>66.0\"</td>\n",
       "      <td>16–3–1</td>\n",
       "    </tr>\n",
       "    <tr>\n",
       "      <th>1</th>\n",
       "      <td>1</td>\n",
       "      <td>2023-03-04</td>\n",
       "      <td>Alexa Grasso</td>\n",
       "      <td>Valentina Shevchenko</td>\n",
       "      <td>5' 5\"</td>\n",
       "      <td>125 lbs.</td>\n",
       "      <td>66.0\"</td>\n",
       "      <td>5' 5\"</td>\n",
       "      <td>125 lbs.</td>\n",
       "      <td>66.0\"</td>\n",
       "      <td>16–3</td>\n",
       "    </tr>\n",
       "    <tr>\n",
       "      <th>2</th>\n",
       "      <td>1</td>\n",
       "      <td>2017-09-09</td>\n",
       "      <td>Amanda Nunes</td>\n",
       "      <td>Valentina Shevchenko</td>\n",
       "      <td>5' 8\"</td>\n",
       "      <td>135 lbs.</td>\n",
       "      <td>69.0\"</td>\n",
       "      <td>5' 5\"</td>\n",
       "      <td>125 lbs.</td>\n",
       "      <td>66.0\"</td>\n",
       "      <td>15–4</td>\n",
       "    </tr>\n",
       "    <tr>\n",
       "      <th>3</th>\n",
       "      <td>1</td>\n",
       "      <td>2016-03-05</td>\n",
       "      <td>Amanda Nunes</td>\n",
       "      <td>Valentina Shevchenko</td>\n",
       "      <td>5' 8\"</td>\n",
       "      <td>135 lbs.</td>\n",
       "      <td>69.0\"</td>\n",
       "      <td>5' 5\"</td>\n",
       "      <td>125 lbs.</td>\n",
       "      <td>66.0\"</td>\n",
       "      <td>12–4</td>\n",
       "    </tr>\n",
       "    <tr>\n",
       "      <th>4</th>\n",
       "      <td>0</td>\n",
       "      <td>2016-07-23</td>\n",
       "      <td>Holly Holm</td>\n",
       "      <td>Valentina Shevchenko</td>\n",
       "      <td>5' 8\"</td>\n",
       "      <td>135 lbs.</td>\n",
       "      <td>69.0\"</td>\n",
       "      <td>5' 5\"</td>\n",
       "      <td>125 lbs.</td>\n",
       "      <td>66.0\"</td>\n",
       "      <td>10–2</td>\n",
       "    </tr>\n",
       "    <tr>\n",
       "      <th>...</th>\n",
       "      <td>...</td>\n",
       "      <td>...</td>\n",
       "      <td>...</td>\n",
       "      <td>...</td>\n",
       "      <td>...</td>\n",
       "      <td>...</td>\n",
       "      <td>...</td>\n",
       "      <td>...</td>\n",
       "      <td>...</td>\n",
       "      <td>...</td>\n",
       "      <td>...</td>\n",
       "    </tr>\n",
       "    <tr>\n",
       "      <th>13781</th>\n",
       "      <td>0</td>\n",
       "      <td>2017-12-01</td>\n",
       "      <td>Melinda Fabian</td>\n",
       "      <td>DeAnna Bennett</td>\n",
       "      <td>5' 6\"</td>\n",
       "      <td>125 lbs.</td>\n",
       "      <td>66.0\"</td>\n",
       "      <td>5' 4\"</td>\n",
       "      <td>125 lbs.</td>\n",
       "      <td>68.0\"</td>\n",
       "      <td>4–3–2</td>\n",
       "    </tr>\n",
       "    <tr>\n",
       "      <th>13782</th>\n",
       "      <td>0</td>\n",
       "      <td>2017-09-02</td>\n",
       "      <td>Bojan Mihajlovic</td>\n",
       "      <td>Abdul-Kerim Edilov</td>\n",
       "      <td>5' 11\"</td>\n",
       "      <td>205 lbs.</td>\n",
       "      <td>73.0\"</td>\n",
       "      <td>6' 2\"</td>\n",
       "      <td>205 lbs.</td>\n",
       "      <td>--</td>\n",
       "      <td>NaN</td>\n",
       "    </tr>\n",
       "    <tr>\n",
       "      <th>13783</th>\n",
       "      <td>0</td>\n",
       "      <td>2014-07-06</td>\n",
       "      <td>Keith Berish</td>\n",
       "      <td>Robert Drysdale</td>\n",
       "      <td>6' 0\"</td>\n",
       "      <td>205 lbs.</td>\n",
       "      <td>--</td>\n",
       "      <td>6' 3\"</td>\n",
       "      <td>205 lbs.</td>\n",
       "      <td>--</td>\n",
       "      <td>NaN</td>\n",
       "    </tr>\n",
       "    <tr>\n",
       "      <th>13784</th>\n",
       "      <td>0</td>\n",
       "      <td>2006-12-13</td>\n",
       "      <td>Steve Byrnes</td>\n",
       "      <td>Logan Clark</td>\n",
       "      <td>6' 0\"</td>\n",
       "      <td>170 lbs.</td>\n",
       "      <td>--</td>\n",
       "      <td>6' 2\"</td>\n",
       "      <td>185 lbs.</td>\n",
       "      <td>--</td>\n",
       "      <td>NaN</td>\n",
       "    </tr>\n",
       "    <tr>\n",
       "      <th>13785</th>\n",
       "      <td>0</td>\n",
       "      <td>2006-03-04</td>\n",
       "      <td>Icho Larenas</td>\n",
       "      <td>Tom Murphy</td>\n",
       "      <td>6' 3\"</td>\n",
       "      <td>235 lbs.</td>\n",
       "      <td>--</td>\n",
       "      <td>6' 2\"</td>\n",
       "      <td>227 lbs.</td>\n",
       "      <td>--</td>\n",
       "      <td>NaN</td>\n",
       "    </tr>\n",
       "  </tbody>\n",
       "</table>\n",
       "<p>13769 rows × 11 columns</p>\n",
       "</div>"
      ],
      "text/plain": [
       "       win       date           fighter              opponent fighter_ht  \\\n",
       "0        0 2023-09-16      Alexa Grasso  Valentina Shevchenko      5' 5\"   \n",
       "1        1 2023-03-04      Alexa Grasso  Valentina Shevchenko      5' 5\"   \n",
       "2        1 2017-09-09      Amanda Nunes  Valentina Shevchenko      5' 8\"   \n",
       "3        1 2016-03-05      Amanda Nunes  Valentina Shevchenko      5' 8\"   \n",
       "4        0 2016-07-23        Holly Holm  Valentina Shevchenko      5' 8\"   \n",
       "...    ...        ...               ...                   ...        ...   \n",
       "13781    0 2017-12-01    Melinda Fabian        DeAnna Bennett      5' 6\"   \n",
       "13782    0 2017-09-02  Bojan Mihajlovic    Abdul-Kerim Edilov     5' 11\"   \n",
       "13783    0 2014-07-06      Keith Berish       Robert Drysdale      6' 0\"   \n",
       "13784    0 2006-12-13      Steve Byrnes           Logan Clark      6' 0\"   \n",
       "13785    0 2006-03-04      Icho Larenas            Tom Murphy      6' 3\"   \n",
       "\n",
       "      fighter_wt fighter_reach opponent_ht opponent_wt opponent_reach  record  \n",
       "0       125 lbs.         66.0\"       5' 5\"    125 lbs.          66.0\"  16–3–1  \n",
       "1       125 lbs.         66.0\"       5' 5\"    125 lbs.          66.0\"    16–3  \n",
       "2       135 lbs.         69.0\"       5' 5\"    125 lbs.          66.0\"    15–4  \n",
       "3       135 lbs.         69.0\"       5' 5\"    125 lbs.          66.0\"    12–4  \n",
       "4       135 lbs.         69.0\"       5' 5\"    125 lbs.          66.0\"    10–2  \n",
       "...          ...           ...         ...         ...            ...     ...  \n",
       "13781   125 lbs.         66.0\"       5' 4\"    125 lbs.          68.0\"   4–3–2  \n",
       "13782   205 lbs.         73.0\"       6' 2\"    205 lbs.             --     NaN  \n",
       "13783   205 lbs.            --       6' 3\"    205 lbs.             --     NaN  \n",
       "13784   170 lbs.            --       6' 2\"    185 lbs.             --     NaN  \n",
       "13785   235 lbs.            --       6' 2\"    227 lbs.             --     NaN  \n",
       "\n",
       "[13769 rows x 11 columns]"
      ]
     },
     "execution_count": 5279,
     "metadata": {},
     "output_type": "execute_result"
    }
   ],
   "source": [
    "df10"
   ]
  },
  {
   "cell_type": "code",
   "execution_count": 3707,
   "id": "9de9584f",
   "metadata": {},
   "outputs": [],
   "source": [
    "# renaming and dropping columns from the merged df\n",
    "\n",
    "df10 = df10.rename(columns={'fighter_ht_x'\\\n",
    "                         :'fighter_ht', 'fighter_wt_x':'fighter_wt', 'fighter_reach_x':'fighter_reach'})\n",
    "\n",
    "df10 = df10.drop(['fighter_ht_y','fighter_wt_y', 'fighter_reach_y'],axis=1)"
   ]
  },
  {
   "cell_type": "markdown",
   "id": "8565f21e",
   "metadata": {},
   "source": [
    "# Merging df10 to itself, joining on 'fighter' == 'opponent' and 'date' == 'date'. gives me the opponents record on the event date."
   ]
  },
  {
   "cell_type": "code",
   "execution_count": 4962,
   "id": "9435af15",
   "metadata": {},
   "outputs": [],
   "source": [
    "df11 = df10.copy().merge(df10.copy(), left_on=['opponent', 'date'], right_on=['fighter', 'date'])"
   ]
  },
  {
   "cell_type": "code",
   "execution_count": 4963,
   "id": "b3ebc46e",
   "metadata": {},
   "outputs": [],
   "source": [
    "# renaming columns after merge.\n",
    "\n",
    "df11 = df11.rename(columns={'win_x': 'win', 'fighter_x':'fighter', 'opponent_x':'opponent', 'fighter_ht_x'\\\n",
    "                           :'fighter_ht', 'fighter_wt_x':'fighter_wt', 'fighter_reach_x':'fighter_reach'\\\n",
    "                           ,'opponent_ht_x':'opponent_ht', 'opponent_wt_x':'opponent_wt', 'opponent_reach_x':\\\n",
    "                           'opponent_reach', 'record_x':'record', 'record_y':'opponent_record'})"
   ]
  },
  {
   "cell_type": "code",
   "execution_count": 4964,
   "id": "231b8f4c",
   "metadata": {},
   "outputs": [],
   "source": [
    "# keeping the columns I want\n",
    "\n",
    "df11 = df11[['win', 'date', 'fighter', 'opponent', 'fighter_ht', 'fighter_wt', 'fighter_reach', 'opponent_ht',\\\n",
    "            'opponent_wt', 'opponent_reach', 'record', 'opponent_record']]"
   ]
  },
  {
   "cell_type": "markdown",
   "id": "e60192e1",
   "metadata": {},
   "source": [
    "# Spiltting strings into ints to be used as features"
   ]
  },
  {
   "cell_type": "code",
   "execution_count": 4971,
   "id": "8d8fe1dd",
   "metadata": {
    "scrolled": true
   },
   "outputs": [],
   "source": [
    "# splits the heights (inches from feet), converts feet to inches, returns height in inches\n",
    "df11['opponent_ht'] = df11['opponent_ht'].map(lambda x: x.replace('\\'', '').strip())\n",
    "df11['opponent_ht'] = df11['opponent_ht'].map(lambda x: x.replace('\\\"', '').strip())\n",
    "\n",
    "df11['fighter_ht'] = df11['fighter_ht'].map(lambda x: x.replace('\\'', '').strip())\n",
    "df11['fighter_ht'] = df11['fighter_ht'].map(lambda x: x.replace('\\\"', '').strip())\n",
    "\n",
    "df11[['feet', 'inches']] = df11['opponent_ht'].str.split(' ', expand=True)\n",
    "\n",
    "df11[['ffeet', 'finches']] = df11['fighter_ht'].str.split(' ', expand=True)\n",
    "\n",
    "df11['feet'] = pd.to_numeric(df11['feet'], errors='coerce').astype('Int64')\n",
    "\n",
    "df11['ffeet'] = pd.to_numeric(df11['ffeet'], errors='coerce').astype('Int64')\n",
    "\n",
    "df11['inches'] = pd.to_numeric(df11['inches'], errors='coerce').astype('Int64')\n",
    "\n",
    "df11['finches'] = pd.to_numeric(df11['finches'], errors='coerce').astype('Int64')\n",
    "\n",
    "df11['feet'] = df11['feet']*12\n",
    "\n",
    "df11['ffeet'] = df11['ffeet']*12\n",
    "\n",
    "df11['opponent_ht'] = df11['feet']+df11['inches']\n",
    "\n",
    "df11['fighter_ht'] = df11['ffeet']+df11['finches']\n",
    "\n",
    "df11 = df11.drop(['feet', 'inches', 'ffeet', 'finches'], axis=1)\n",
    "\n",
    "# weight is unneeded because the weights are the same for each fighter in the fight.\n",
    "\n",
    "df11 =df11.drop(['fighter_wt','opponent_wt'], axis=1)\n",
    "\n",
    "# doing the same for reach as was done for height.\n",
    "\n",
    "df11['fighter_reach'] = df11['fighter_reach'].map(lambda x: x.replace('\\\"', '').strip())\n",
    "df11['opponent_reach'] = df11['opponent_reach'].map(lambda x: x.replace('\\\"', '').strip())\n",
    "\n",
    "\n",
    "df11['fighter_reach'] = df11['fighter_reach'].map(lambda x: x.replace('.0', '').strip())\n",
    "df11['opponent_reach'] = df11['opponent_reach'].map(lambda x: x.replace('.0', '').strip())\n",
    "\n",
    "df11['fighter_reach'] = pd.to_numeric(df11['fighter_reach'], errors='coerce').astype('Int64')\n",
    "df11['opponent_reach'] = pd.to_numeric(df11['opponent_reach'], errors='coerce').astype('Int64')\n",
    "\n",
    "# converting the records to str then splint wins, losses, and draws into individual columns before\n",
    "# converting them to integers.\n",
    "\n",
    "df11['record'] = df11['record'].str.split('(').str[0]\n",
    "df11['opponent_record'] = df11['opponent_record'].str.split('(').str[0]\n",
    "\n",
    "df11['record'] = df11['record'].str.replace(r'[\\W]', ' ', regex=True)\n",
    "\n",
    "df11['opponent_record'] = df11['opponent_record'].str.replace(r'[\\W]', ' ', regex=True)\n",
    "\n",
    "df11[['wins', 'losses']] = df11['record'].str.split(' ',1, expand=True)\n",
    "\n",
    "df11[['losses', 'draw']] = df11['losses'].str.split(' ',1, expand=True)\n",
    "\n",
    "df11[['opp_wins', 'opp_losses']] = df11['opponent_record'].str.split(' ',1, expand=True)\n",
    "\n",
    "df11[['opp_losses', 'opp_draw']] = df11['opp_losses'].str.split(' ',1, expand=True)\n",
    "\n",
    "df11['opp_wins'] = pd.to_numeric(df11['opp_wins'], errors='coerce').astype('Int64')\n",
    "df11['opp_losses'] = pd.to_numeric(df11['opp_losses'], errors='coerce').astype('Int64')\n",
    "\n",
    "df11['wins'] = pd.to_numeric(df11['wins'], errors='coerce').astype('Int64')\n",
    "df11['losses'] = pd.to_numeric(df11['losses'], errors='coerce').astype('Int64')\n",
    "\n",
    "# Many fighters do not have a draw on their record, so NA values need to be replaced with zeros\n",
    "df11['opp_draw'] = df11['opp_draw'].fillna(0)\n",
    "\n",
    "df11['draw'] = df11['draw'].fillna(0)\n",
    "\n",
    "df11['draw'] = pd.to_numeric(df11['draw'], errors='coerce').astype('Int64')\n",
    "df11['opp_draw'] = pd.to_numeric(df11['opp_draw'], errors='coerce').astype('Int64')"
   ]
  },
  {
   "cell_type": "markdown",
   "id": "355b9e39",
   "metadata": {},
   "source": [
    "# df11 looks good. Now I will use a copy of it to make more changes"
   ]
  },
  {
   "cell_type": "code",
   "execution_count": 4973,
   "id": "2021b95d",
   "metadata": {},
   "outputs": [],
   "source": [
    "df12 = df11.copy().drop(['record','opponent_record'], axis=1)"
   ]
  },
  {
   "cell_type": "markdown",
   "id": "3d53df1f",
   "metadata": {},
   "source": [
    "# The records on wikipedia are the records after the event. To get the records of the fighters before the event, wins and losses must be subtracted. The label must be predicted using information that was available before the fight took place."
   ]
  },
  {
   "cell_type": "code",
   "execution_count": 4974,
   "id": "e00159f8",
   "metadata": {},
   "outputs": [],
   "source": [
    "# This cell can only be ran once or it will continue to subtract and add resulting in errors in the data\n",
    "\n",
    "df12.loc[df12['win']==0, ['opp_wins']] = df12['opp_wins'].subtract(1)\n",
    "\n",
    "df12.loc[df12['win']==0, ['losses']] = df12['losses'].subtract(1)\n",
    "\n",
    "df12.loc[df12['win']==1, ['wins']] = df12['wins'].subtract(1)\n",
    "\n",
    "df12.loc[df12['win'] == 1, ['opp_losses']] = df12['opp_losses'].subtract(1)"
   ]
  },
  {
   "cell_type": "code",
   "execution_count": 4975,
   "id": "33c4ac77",
   "metadata": {},
   "outputs": [],
   "source": [
    "# looking for negative values in the loss column that have showed up because some fighters have zero\n",
    "# losses.\n",
    "\n",
    "df12.loc[df12['losses']<0, ['losses']] = 0"
   ]
  },
  {
   "cell_type": "code",
   "execution_count": 4978,
   "id": "7eca0d49",
   "metadata": {},
   "outputs": [],
   "source": [
    "# keeping what we need and creating a new df.\n",
    "\n",
    "df12 = df12[['win', 'date', 'fighter', 'opponent', 'fighter_ht', 'fighter_reach', 'opponent_ht', \\\n",
    "            'opponent_reach', 'wins', 'losses', 'draw', 'opp_wins', 'opp_losses', 'opp_draw']]\n",
    "df13 = df12.copy()"
   ]
  },
  {
   "cell_type": "code",
   "execution_count": 4980,
   "id": "09e498c3",
   "metadata": {},
   "outputs": [],
   "source": [
    "# sorting by fighter and date\n",
    "\n",
    "df14 = df13.copy().sort_values(['fighter', 'date'], ascending=False).reset_index()\n",
    "\n",
    "# dropping index row created by reseting the index.\n",
    "\n",
    "df14 = df14.drop(['index'], axis=1)"
   ]
  },
  {
   "cell_type": "code",
   "execution_count": 4981,
   "id": "376456a0",
   "metadata": {},
   "outputs": [],
   "source": [
    "# saving work\n",
    "\n",
    "df14.to_csv('df14', index=False)"
   ]
  },
  {
   "cell_type": "code",
   "execution_count": 5216,
   "id": "c7f05da9",
   "metadata": {},
   "outputs": [],
   "source": [
    "df15 = df14.copy()"
   ]
  },
  {
   "cell_type": "markdown",
   "id": "afdb3fc7",
   "metadata": {},
   "source": [
    "# This fills in the missing wins and losses for the fighters. This back fills NAs going forward in time."
   ]
  },
  {
   "cell_type": "code",
   "execution_count": 5220,
   "id": "ce9515fc",
   "metadata": {},
   "outputs": [],
   "source": [
    "# This has to be ran multiple times.\n",
    "\n",
    "df15['ww'] = df15['wins'][df15['win']==1].add(1)\n",
    "\n",
    "df15['ww'][df15['win']==0] = df15['wins']\n",
    "df15['ww'][df15['win']==2] = df15['wins']\n",
    "\n",
    "df15['ww'] = df15.groupby('fighter')['ww'].fillna(method='bfill', limit=1)\n",
    "\n",
    "df15['wins'][df15['wins'].isna()] = df15['ww']\n",
    "\n",
    "df15['wl'] = df15['losses'][df15['win'] == 0].add(1)\n",
    "df15['wl'][df15['win']==1] = df15['losses']\n",
    "\n",
    "df15['wl'][df15['win']==2] = df15['losses']\n",
    "\n",
    "df15['wl'] = df15.groupby('fighter')['wl'].fillna(method='bfill', limit=1)\n",
    "\n",
    "df15['losses'][df15['losses'].isna()] = df15['wl']"
   ]
  },
  {
   "cell_type": "markdown",
   "id": "ffacc9f6",
   "metadata": {},
   "source": [
    "# This fills in missing wins and losses going backwards (front fills) in time."
   ]
  },
  {
   "cell_type": "code",
   "execution_count": 5284,
   "id": "5f92b277",
   "metadata": {},
   "outputs": [],
   "source": [
    "#this has to be ran multiple times.\n",
    "df15['ffw'] = df15['wins'][df15['win']==1].add(-1)\n",
    "\n",
    "df15['ffw'][df15['win']==0] = df15['wins']\n",
    "df15['ffw'][df15['win']==2] = df15['wins']\n",
    "\n",
    "df15['ffw'] = df15.groupby('fighter')['ffw'].fillna(method='ffill', limit=1)\n",
    "\n",
    "df15['wins'][df15['wins'].isna()] = df15['ffw']\n",
    "\n",
    "df15['ffl'] = df15['losses'][df15['win'] == 0].add(-1)\n",
    "df15['ffl'][df15['win']==1] = df15['losses']\n",
    "df15['ffl'][df15['win']==2] = df15['losses']\n",
    "\n",
    "df15['ffl'] = df15.groupby('fighter')['ffl'].fillna(method='ffill', limit=1)\n",
    "\n",
    "df15['losses'][df15['losses'].isna()] = df15['ffl']"
   ]
  },
  {
   "cell_type": "markdown",
   "id": "399a4151",
   "metadata": {},
   "source": [
    "# Run the cells above and then check for missing 'win' column values. When this number doesn't go down anymore, the above cells don't need to be ran anymore."
   ]
  },
  {
   "cell_type": "code",
   "execution_count": 5285,
   "id": "8a6aa18c",
   "metadata": {},
   "outputs": [
    {
     "data": {
      "text/plain": [
       "1888"
      ]
     },
     "execution_count": 5285,
     "metadata": {},
     "output_type": "execute_result"
    }
   ],
   "source": [
    "# Checks if our front-filling and back-filling are complete.\n",
    "df15['wins'].isna().sum()"
   ]
  },
  {
   "cell_type": "code",
   "execution_count": 5228,
   "id": "de15ea76",
   "metadata": {},
   "outputs": [],
   "source": [
    "# dropping the columns created to backfill and frontfill wins and losses.\n",
    "\n",
    "df15 = df15.drop(['ww','wl', 'ffl', 'ffw'], axis=1)"
   ]
  },
  {
   "cell_type": "markdown",
   "id": "3e307481",
   "metadata": {},
   "source": [
    "# Now that every fighters record is correct, we fill in the records when each combatant was the opponent."
   ]
  },
  {
   "cell_type": "code",
   "execution_count": 5230,
   "id": "a714bba6",
   "metadata": {},
   "outputs": [],
   "source": [
    "#filling in the missing opp wins and losses by merging\n",
    "temp = df15[['date', 'fighter', 'wins', 'losses']]"
   ]
  },
  {
   "cell_type": "code",
   "execution_count": 5231,
   "id": "37875d1c",
   "metadata": {},
   "outputs": [],
   "source": [
    "df15 = df15.merge(temp, left_on=['opponent','date'], right_on=['fighter','date'])"
   ]
  },
  {
   "cell_type": "markdown",
   "id": "f4a5f8b6",
   "metadata": {},
   "source": [
    "# Cleaning after merger"
   ]
  },
  {
   "cell_type": "code",
   "execution_count": 5233,
   "id": "5d264d02",
   "metadata": {},
   "outputs": [],
   "source": [
    "df15 = df15.drop(columns={'opp_wins', 'opp_losses','fighter_y'})"
   ]
  },
  {
   "cell_type": "code",
   "execution_count": 5234,
   "id": "bbfcc10f",
   "metadata": {},
   "outputs": [],
   "source": [
    "df15 = df15.rename(columns={'fighter_x':'fighter', 'wins_x':'wins', 'losses_x':'losses', 'wins':'opp_wins',\\\n",
    "                   'losses':'opp_losses', 'wins_y':'opp_wins', 'losses_y':'opp_losses'})"
   ]
  },
  {
   "cell_type": "code",
   "execution_count": 5236,
   "id": "9ec73286",
   "metadata": {},
   "outputs": [],
   "source": [
    "df15.to_csv('df15', index=False)"
   ]
  },
  {
   "cell_type": "code",
   "execution_count": 5305,
   "id": "177571a5",
   "metadata": {},
   "outputs": [],
   "source": [
    "df15 = df15.drop_duplicates()\n",
    "\n",
    "df15['opp_draw'] = df15['opp_draw'].fillna(0)\n",
    "\n",
    "df15['draw'] = df15['draw'].fillna(0)\n",
    "\n",
    "df_f = df15.dropna()"
   ]
  },
  {
   "cell_type": "code",
   "execution_count": 5307,
   "id": "f3e04531",
   "metadata": {},
   "outputs": [],
   "source": [
    "df_f.to_csv('df_f', index=False)"
   ]
  },
  {
   "cell_type": "markdown",
   "id": "eb3eb2b1",
   "metadata": {},
   "source": [
    "# Getting access to the fighters individual pages to extract date of birth"
   ]
  },
  {
   "cell_type": "code",
   "execution_count": 4498,
   "id": "065d793f",
   "metadata": {},
   "outputs": [],
   "source": [
    "l = []\n",
    "for letter in alpha_urls:\n",
    "    try:\n",
    "        data = requests.get(letter)\n",
    "        soup = BeautifulSoup(data.text)\n",
    "        full_letter = soup.select('li.b-statistics__paginate-item')[-1]\n",
    "        full_table = full_letter.find_all('a')\n",
    "        ft_link = [l.get('href') for l in full_table]\n",
    "        data2 = requests.get(ft_link[0])\n",
    "        soup2 = BeautifulSoup(data2.text)\n",
    "        fighter_link = soup2.select('td.b-statistics__table-col')\n",
    "\n",
    "        for k in fighter_link:\n",
    "            x = k.find_all('a')\n",
    "            links = [l.get('href') for l in x]\n",
    "            l.append(links)\n",
    "    except:\n",
    "        continue\n",
    "    time.sleep(.5)\n"
   ]
  },
  {
   "cell_type": "code",
   "execution_count": 3950,
   "id": "f7861248",
   "metadata": {},
   "outputs": [],
   "source": [
    "# turning the list of lists into a flat list\n",
    "\n",
    "fl = [item for sublist in l for item in sublist]"
   ]
  },
  {
   "cell_type": "code",
   "execution_count": 3951,
   "id": "b4175735",
   "metadata": {},
   "outputs": [],
   "source": [
    "# removes duplicates \n",
    "\n",
    "fl = list(set(fl))"
   ]
  },
  {
   "cell_type": "code",
   "execution_count": 3958,
   "id": "18ff950e",
   "metadata": {},
   "outputs": [],
   "source": [
    "# adds the beginning to the urls\n",
    "\n",
    "fl_links = [f\"http://www.ufcstats.{l.split('.')[1]}\" for l in fl]"
   ]
  },
  {
   "cell_type": "markdown",
   "id": "cbe83a4e",
   "metadata": {},
   "source": [
    "# Uses the list of links to enter the page of every fighter and extract name and date of birth (dob)."
   ]
  },
  {
   "cell_type": "code",
   "execution_count": 4505,
   "id": "a750c7aa",
   "metadata": {},
   "outputs": [],
   "source": [
    "age_df = pd.DataFrame()\n",
    "for letter in fl_links:\n",
    "    try:\n",
    "        data3 = requests.get(letter)\n",
    "        soup3 = BeautifulSoup(data3.text)\n",
    "        bd = soup3.select('li.b-list__box-list-item')[4].text.strip().split(' ')[-3:]\n",
    "        birthday = bd[0]+' '+bd[1]+' '+bd[2]\n",
    "        name = soup3.select('span.b-content__title-highlight')[0].text.strip()\n",
    "\n",
    "        birth_dict = [{'fighter':name, 'dob':birthday}]\n",
    "        single_df = pd.DataFrame(birth_dict)\n",
    "        age_df = pd.concat([age_df, single_df])\n",
    "    except:\n",
    "        continue\n",
    "    time.sleep(.5)\n",
    "\n"
   ]
  },
  {
   "cell_type": "markdown",
   "id": "721eb32f",
   "metadata": {},
   "source": [
    "# Again, solving the two Bruno Silvas problem"
   ]
  },
  {
   "cell_type": "code",
   "execution_count": 4615,
   "id": "0ebd1479",
   "metadata": {},
   "outputs": [],
   "source": [
    "age_df = age_df.drop(age_df.loc[(age_df.fighter=='Bruno Silva')&(age_df.dob=='Mar 16, 1990')].index)"
   ]
  },
  {
   "cell_type": "code",
   "execution_count": 4618,
   "id": "f2c72532",
   "metadata": {},
   "outputs": [],
   "source": [
    "age_df.to_csv('age_df', index=False)"
   ]
  },
  {
   "cell_type": "markdown",
   "id": "a430eb49",
   "metadata": {},
   "source": [
    "# Adding the dob of the fighter and the opponent"
   ]
  },
  {
   "cell_type": "code",
   "execution_count": 5308,
   "id": "047a3bc7",
   "metadata": {},
   "outputs": [],
   "source": [
    "# merging ages onto the figthers\n",
    "\n",
    "df_f = df_f.merge(age_df, on='fighter', how='left')"
   ]
  },
  {
   "cell_type": "code",
   "execution_count": 5309,
   "id": "0f276ca3",
   "metadata": {},
   "outputs": [],
   "source": [
    "# merging ages onto opponents\n",
    "\n",
    "df_f = df_f.merge(age_df, left_on='opponent', right_on='fighter')"
   ]
  },
  {
   "cell_type": "code",
   "execution_count": 5310,
   "id": "d2d5deb8",
   "metadata": {},
   "outputs": [],
   "source": [
    "df_f = df_f.rename(columns={'fighter_x':'fighter'})"
   ]
  },
  {
   "cell_type": "code",
   "execution_count": 5311,
   "id": "d931a503",
   "metadata": {},
   "outputs": [],
   "source": [
    "df_f = df_f.rename(columns={'dob_x':'fighter_dob', 'dob_y':'opp_dob'})"
   ]
  },
  {
   "cell_type": "code",
   "execution_count": 5312,
   "id": "369b74b0",
   "metadata": {},
   "outputs": [],
   "source": [
    "df_f = df_f.drop(['fighter_y'], axis=1)"
   ]
  },
  {
   "cell_type": "code",
   "execution_count": 5317,
   "id": "6b409634",
   "metadata": {},
   "outputs": [],
   "source": [
    "# setting 'dob' column to datetime\n",
    "\n",
    "df_f['fighter_dob'] = pd.to_datetime(df_f['fighter_dob'], errors='coerce')\n",
    "df_f['opp_dob'] = pd.to_datetime(df_f['opp_dob'], errors='coerce')"
   ]
  },
  {
   "cell_type": "code",
   "execution_count": 5318,
   "id": "f221559e",
   "metadata": {},
   "outputs": [],
   "source": [
    "# calculating age in days\n",
    "\n",
    "df_f['fighter_age'] = df_f['date'] - df_f['fighter_dob']\n",
    "df_f['opp_age'] = df_f['date'] - df_f['opp_dob']"
   ]
  },
  {
   "cell_type": "code",
   "execution_count": 5319,
   "id": "ca1910bc",
   "metadata": {},
   "outputs": [],
   "source": [
    "# converting to string to remove day label\n",
    "\n",
    "df_f[['fighter_age','opp_age']] = df_f[['fighter_age','opp_age']].astype(str)\n",
    "\n",
    "df_f['fighter_age'] = df_f['fighter_age'].str.replace(' days', '')\n",
    "df_f['opp_age'] = df_f['opp_age'].str.replace(' days', '')"
   ]
  },
  {
   "cell_type": "code",
   "execution_count": 5320,
   "id": "de429627",
   "metadata": {},
   "outputs": [],
   "source": [
    "# creating a new df\n",
    "\n",
    "df_f2 = df_f.copy()"
   ]
  },
  {
   "cell_type": "markdown",
   "id": "bf22d55f",
   "metadata": {},
   "source": [
    "# Removing fighters with unlisted ages"
   ]
  },
  {
   "cell_type": "code",
   "execution_count": 5326,
   "id": "53dd26a6",
   "metadata": {},
   "outputs": [],
   "source": [
    "df_f2 = df_f2[(df_f2['fighter_age']!='NaT')&(df_f2['opp_age']!='NaT')]"
   ]
  },
  {
   "cell_type": "code",
   "execution_count": 5328,
   "id": "d9136f7c",
   "metadata": {},
   "outputs": [],
   "source": [
    "# dropping unneed columns\n",
    "\n",
    "df_f2 = df_f2.drop(['fighter_dob', 'opp_dob', 'ffw', 'ffl'], axis=1)"
   ]
  },
  {
   "cell_type": "code",
   "execution_count": 5329,
   "id": "3049ad0e",
   "metadata": {},
   "outputs": [],
   "source": [
    "# setting age to type int\n",
    "\n",
    "df_f2['fighter_age'] = df_f2['fighter_age'].astype(int)\n",
    "\n",
    "df_f2['opp_age'] = df_f2['opp_age'].astype(int)"
   ]
  },
  {
   "cell_type": "code",
   "execution_count": 5330,
   "id": "cb7c333e",
   "metadata": {},
   "outputs": [],
   "source": [
    "# new df\n",
    "\n",
    "df_f3 = df_f2.copy()"
   ]
  },
  {
   "cell_type": "code",
   "execution_count": 5331,
   "id": "b3eabcb1",
   "metadata": {},
   "outputs": [],
   "source": [
    "# treating draws like losses\n",
    "\n",
    "df_f3['win'] = df_f3['win'].replace(2, 0)"
   ]
  },
  {
   "cell_type": "markdown",
   "id": "40682b4e",
   "metadata": {},
   "source": [
    "# Creating the final df"
   ]
  },
  {
   "cell_type": "code",
   "execution_count": 5333,
   "id": "6b5122ba",
   "metadata": {},
   "outputs": [],
   "source": [
    "df_f5 = df_f3.copy()"
   ]
  },
  {
   "cell_type": "markdown",
   "id": "01e4ea87",
   "metadata": {},
   "source": [
    "# Changing a loss in the 'win' column from 0 to -1. This is needed to for the function below to work"
   ]
  },
  {
   "cell_type": "code",
   "execution_count": 5358,
   "id": "0555eb28",
   "metadata": {},
   "outputs": [],
   "source": [
    "df_f5['win2'] = df_f5['win'].where(df_f5['win'] == 1, -1)\n",
    "\n",
    "df_f5 = df_f5.drop(['win'], axis=1)\n",
    "\n",
    "df_f5 = df_f5.rename(columns={'win2':'win'})"
   ]
  },
  {
   "cell_type": "markdown",
   "id": "712ad4ab",
   "metadata": {},
   "source": [
    "# Sorting by fighter and date from oldest fight to most recent so I can shift the results down the df and into the future"
   ]
  },
  {
   "cell_type": "code",
   "execution_count": 5359,
   "id": "318a9626",
   "metadata": {},
   "outputs": [],
   "source": [
    "df_f5 = df_f5.sort_values(['fighter', 'date'])"
   ]
  },
  {
   "cell_type": "markdown",
   "id": "083a7683",
   "metadata": {},
   "source": [
    "# Creating columns for both winning and losing streaks"
   ]
  },
  {
   "cell_type": "code",
   "execution_count": 5361,
   "id": "c95f02ef",
   "metadata": {},
   "outputs": [],
   "source": [
    "def streaks(df):\n",
    "    s = df['win'].groupby([df['fighter'], (df['win']!=df['win'].shift()).cumsum()]).cumsum()\n",
    "    return df.assign(w_streak=s.where(s>0, 0), l_streak=s.where(s<1, 0).abs())\n",
    "\n",
    "df_f5 = streaks(df_f5)"
   ]
  },
  {
   "cell_type": "markdown",
   "id": "425126d5",
   "metadata": {},
   "source": [
    "# Shifting streaks ahead one fight date to reflect status before result"
   ]
  },
  {
   "cell_type": "code",
   "execution_count": 5362,
   "id": "4ed88a7a",
   "metadata": {},
   "outputs": [],
   "source": [
    "df_f5[['w_streak', 'l_streak']] = df_f5[['w_streak', 'l_streak']].groupby(df_f5['fighter']).shift()\n",
    "\n",
    "df_f5 = df_f5.fillna(0)"
   ]
  },
  {
   "cell_type": "code",
   "execution_count": 5117,
   "id": "a6177f01",
   "metadata": {},
   "outputs": [],
   "source": [
    "df_f5.to_csv('df_f5', index=False)"
   ]
  },
  {
   "cell_type": "markdown",
   "id": "a8be817f",
   "metadata": {},
   "source": [
    "# Merging the df to itself to create the streak columns for the opponent"
   ]
  },
  {
   "cell_type": "code",
   "execution_count": 5363,
   "id": "55a60287",
   "metadata": {},
   "outputs": [],
   "source": [
    "df_f5 = df_f5.merge(df_f5, left_on=['opponent', 'date'], right_on=['fighter', 'date'])"
   ]
  },
  {
   "cell_type": "code",
   "execution_count": 5111,
   "id": "ed602065",
   "metadata": {},
   "outputs": [
    {
     "data": {
      "text/plain": [
       "Index(['date', 'fighter_x', 'opponent_x', 'fighter_ht_x', 'fighter_reach_x',\n",
       "       'opponent_ht_x', 'opponent_reach_x', 'wins_x', 'losses_x', 'draw_x',\n",
       "       'opp_draw_x', 'opp_wins_x', 'opp_losses_x', 'fighter_age_x',\n",
       "       'opp_age_x', 'win_x', 'w_streak_x', 'l_streak_x', 'fighter_y',\n",
       "       'opponent_y', 'fighter_ht_y', 'fighter_reach_y', 'opponent_ht_y',\n",
       "       'opponent_reach_y', 'wins_y', 'losses_y', 'draw_y', 'opp_draw_y',\n",
       "       'opp_wins_y', 'opp_losses_y', 'fighter_age_y', 'opp_age_y', 'win_y',\n",
       "       'w_streak_y', 'l_streak_y'],\n",
       "      dtype='object')"
      ]
     },
     "execution_count": 5111,
     "metadata": {},
     "output_type": "execute_result"
    }
   ],
   "source": [
    "df_f5.columns"
   ]
  },
  {
   "cell_type": "code",
   "execution_count": 5364,
   "id": "9be9daea",
   "metadata": {},
   "outputs": [],
   "source": [
    "df_f5 = df_f5.drop(['fighter_y',\n",
    "       'opponent_y', 'fighter_ht_y', 'fighter_reach_y', 'opponent_ht_y',\n",
    "       'opponent_reach_y', 'wins_y', 'losses_y', 'draw_y', 'opp_wins_y',\n",
    "       'opp_losses_y', 'opp_draw_y', 'fighter_age_y', 'opp_age_y', 'win_y'], axis=1)"
   ]
  },
  {
   "cell_type": "code",
   "execution_count": 5365,
   "id": "81e072d8",
   "metadata": {},
   "outputs": [],
   "source": [
    "df_f5 = df_f5.rename(columns={'fighter_x':'fighter', 'opponent_x':'opponent',\\\n",
    "                              'fighter_ht_x':'fighter_ht', 'fighter_reach_x':'fighter_reach',\\\n",
    "                              'opponent_ht_x':'opp_ht', 'opponent_reach_x':'opp_reach','wins_x':'wins',\\\n",
    "                              'losses_x':'losses', 'draw_x':'draw', 'opp_wins_x':'opp_wins',\\\n",
    "                              'opp_losses_x':'opp_losses', 'opp_draw_x':'opp_draw', 'fighter_age_x':'fighter_age',\\\n",
    "                              'opp_age_x':'opp_age', 'win_x':'win', 'w_streak_x':'w_streak',\\\n",
    "                              'l_streak_x':'l_streak', 'w_streak_y':'opp_w_streak','l_streak_y':'opp_l_streak'})"
   ]
  },
  {
   "cell_type": "markdown",
   "id": "43584b46",
   "metadata": {},
   "source": [
    "# Saving the final df that will be used to "
   ]
  },
  {
   "cell_type": "code",
   "execution_count": 5367,
   "id": "8504bc44",
   "metadata": {},
   "outputs": [],
   "source": [
    "df_f5.to_csv('df_f5', index=False)"
   ]
  },
  {
   "cell_type": "code",
   "execution_count": 5366,
   "id": "d12464d2",
   "metadata": {},
   "outputs": [
    {
     "data": {
      "text/plain": [
       "(9836, 20)"
      ]
     },
     "execution_count": 5366,
     "metadata": {},
     "output_type": "execute_result"
    }
   ],
   "source": [
    "df_f5.shape"
   ]
  },
  {
   "cell_type": "code",
   "execution_count": null,
   "id": "25e46303",
   "metadata": {},
   "outputs": [],
   "source": []
  }
 ],
 "metadata": {
  "kernelspec": {
   "display_name": "Python 3 (ipykernel)",
   "language": "python",
   "name": "python3"
  },
  "language_info": {
   "codemirror_mode": {
    "name": "ipython",
    "version": 3
   },
   "file_extension": ".py",
   "mimetype": "text/x-python",
   "name": "python",
   "nbconvert_exporter": "python",
   "pygments_lexer": "ipython3",
   "version": "3.8.2"
  }
 },
 "nbformat": 4,
 "nbformat_minor": 5
}
