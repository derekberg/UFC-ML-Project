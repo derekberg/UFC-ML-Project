{
 "cells": [
  {
   "cell_type": "code",
   "execution_count": 1,
   "id": "31fbe3e0",
   "metadata": {},
   "outputs": [],
   "source": [
    "import requests\n",
    "import csv\n",
    "import numpy as np\n",
    "import pandas as pd\n",
    "from unidecode import unidecode\n",
    "import time\n",
    "from bs4 import BeautifulSoup"
   ]
  },
  {
   "cell_type": "markdown",
   "id": "206dd35a",
   "metadata": {},
   "source": [
    "# Reading in the data frame"
   ]
  },
  {
   "cell_type": "code",
   "execution_count": 433,
   "id": "423fa993",
   "metadata": {},
   "outputs": [],
   "source": [
    "# df_f4 = pd.read_csv('df_f4')  # df_f4 contains last fight info\n"
   ]
  },
  {
   "cell_type": "code",
   "execution_count": 1624,
   "id": "1b4b4f89",
   "metadata": {},
   "outputs": [],
   "source": [
    "df_f5 = pd.read_csv('df_f5') # df_f5 contains streak info"
   ]
  },
  {
   "cell_type": "code",
   "execution_count": 1625,
   "id": "62b289bc",
   "metadata": {},
   "outputs": [],
   "source": [
    "df_f5['date'] = pd.to_datetime(df_f5['date'], errors='coerce')"
   ]
  },
  {
   "cell_type": "code",
   "execution_count": 1213,
   "id": "1a65d060",
   "metadata": {},
   "outputs": [],
   "source": [
    "df_f5.to_csv('df_f5', index=False)"
   ]
  },
  {
   "cell_type": "markdown",
   "id": "41f79d94",
   "metadata": {},
   "source": [
    "# Changing the label column from -1 and 1 to 0 and 1"
   ]
  },
  {
   "cell_type": "code",
   "execution_count": 1627,
   "id": "141d23a6",
   "metadata": {},
   "outputs": [],
   "source": [
    "df_f5['win'] = df_f5['win'].where(df_f5['win'] == 1, 0)"
   ]
  },
  {
   "cell_type": "markdown",
   "id": "da95bfff",
   "metadata": {},
   "source": [
    "# Setting up for ML. Splitting the data into train and test. Establishing predictors"
   ]
  },
  {
   "cell_type": "code",
   "execution_count": 1755,
   "id": "e49ffbed",
   "metadata": {},
   "outputs": [],
   "source": [
    "from sklearn.ensemble import RandomForestClassifier\n",
    "from sklearn.model_selection import train_test_split, PredefinedSplit, GridSearchCV\n",
    "from sklearn.metrics import f1_score, precision_score, recall_score, accuracy_score\n",
    "\n",
    "rf = RandomForestClassifier(n_estimators=50, min_samples_split = 10, random_state=1)\n",
    "\n",
    "train, test, = train_test_split(df_f5, test_size = 0.25, random_state = 0)\n",
    "\n",
    "predictors = ['fighter_ht', 'fighter_reach', 'opp_ht', 'opp_reach', 'wins', 'losses', 'draw',\\\n",
    "             'opp_wins', 'opp_losses', 'opp_draw', 'fighter_age', 'opp_age',\\\n",
    "              'w_streak', 'l_streak', 'opp_w_streak', 'opp_l_streak']\n",
    "\n",
    "rf.fit(train[predictors], train['win'])\n",
    "preds = rf.predict(test[predictors])"
   ]
  },
  {
   "cell_type": "markdown",
   "id": "73782060",
   "metadata": {},
   "source": [
    "# Finding out the models accuracy on the test data"
   ]
  },
  {
   "cell_type": "code",
   "execution_count": 1756,
   "id": "76e80691",
   "metadata": {},
   "outputs": [
    {
     "data": {
      "text/plain": [
       "0.58235054900366"
      ]
     },
     "execution_count": 1756,
     "metadata": {},
     "output_type": "execute_result"
    }
   ],
   "source": [
    "acc = accuracy_score(test['win'],preds)\n",
    "\n",
    "acc"
   ]
  },
  {
   "cell_type": "markdown",
   "id": "6d9aaf27",
   "metadata": {},
   "source": [
    "# Visualizing predictions"
   ]
  },
  {
   "cell_type": "code",
   "execution_count": 1757,
   "id": "2c6cdceb",
   "metadata": {
    "scrolled": true
   },
   "outputs": [
    {
     "data": {
      "text/html": [
       "<div>\n",
       "<style scoped>\n",
       "    .dataframe tbody tr th:only-of-type {\n",
       "        vertical-align: middle;\n",
       "    }\n",
       "\n",
       "    .dataframe tbody tr th {\n",
       "        vertical-align: top;\n",
       "    }\n",
       "\n",
       "    .dataframe thead th {\n",
       "        text-align: right;\n",
       "    }\n",
       "</style>\n",
       "<table border=\"1\" class=\"dataframe\">\n",
       "  <thead>\n",
       "    <tr style=\"text-align: right;\">\n",
       "      <th>prediction</th>\n",
       "      <th>0</th>\n",
       "      <th>1</th>\n",
       "    </tr>\n",
       "    <tr>\n",
       "      <th>actual</th>\n",
       "      <th></th>\n",
       "      <th></th>\n",
       "    </tr>\n",
       "  </thead>\n",
       "  <tbody>\n",
       "    <tr>\n",
       "      <th>0</th>\n",
       "      <td>717</td>\n",
       "      <td>515</td>\n",
       "    </tr>\n",
       "    <tr>\n",
       "      <th>1</th>\n",
       "      <td>512</td>\n",
       "      <td>715</td>\n",
       "    </tr>\n",
       "  </tbody>\n",
       "</table>\n",
       "</div>"
      ],
      "text/plain": [
       "prediction    0    1\n",
       "actual              \n",
       "0           717  515\n",
       "1           512  715"
      ]
     },
     "execution_count": 1757,
     "metadata": {},
     "output_type": "execute_result"
    }
   ],
   "source": [
    "combined = pd.DataFrame(dict(actual=test['win'], prediction=preds))\n",
    "\n",
    "pd.crosstab(index=combined['actual'], columns=combined['prediction'])"
   ]
  },
  {
   "cell_type": "markdown",
   "id": "7f023881",
   "metadata": {},
   "source": [
    "# Checking the other scores"
   ]
  },
  {
   "cell_type": "code",
   "execution_count": 1758,
   "id": "1e45c87b",
   "metadata": {},
   "outputs": [
    {
     "name": "stdout",
     "output_type": "stream",
     "text": [
      "Precision Score: 0.5813008130081301 F1 Score: 0.582010582010582 Recall Score: 0.582722086389568\n"
     ]
    }
   ],
   "source": [
    "ps = precision_score(test['win'], preds)\n",
    "\n",
    "f1 = f1_score(test['win'], preds)\n",
    "\n",
    "recall =recall_score(test['win'], preds)\n",
    "\n",
    "print('Precision Score:',ps, 'F1 Score:',f1, 'Recall Score:', recall )"
   ]
  },
  {
   "cell_type": "markdown",
   "id": "c19bd8a2",
   "metadata": {},
   "source": [
    "# ML with boost rather than Random Forest"
   ]
  },
  {
   "cell_type": "code",
   "execution_count": 1759,
   "id": "7849e907",
   "metadata": {},
   "outputs": [
    {
     "data": {
      "text/html": [
       "<style>#sk-container-id-17 {color: black;}#sk-container-id-17 pre{padding: 0;}#sk-container-id-17 div.sk-toggleable {background-color: white;}#sk-container-id-17 label.sk-toggleable__label {cursor: pointer;display: block;width: 100%;margin-bottom: 0;padding: 0.3em;box-sizing: border-box;text-align: center;}#sk-container-id-17 label.sk-toggleable__label-arrow:before {content: \"▸\";float: left;margin-right: 0.25em;color: #696969;}#sk-container-id-17 label.sk-toggleable__label-arrow:hover:before {color: black;}#sk-container-id-17 div.sk-estimator:hover label.sk-toggleable__label-arrow:before {color: black;}#sk-container-id-17 div.sk-toggleable__content {max-height: 0;max-width: 0;overflow: hidden;text-align: left;background-color: #f0f8ff;}#sk-container-id-17 div.sk-toggleable__content pre {margin: 0.2em;color: black;border-radius: 0.25em;background-color: #f0f8ff;}#sk-container-id-17 input.sk-toggleable__control:checked~div.sk-toggleable__content {max-height: 200px;max-width: 100%;overflow: auto;}#sk-container-id-17 input.sk-toggleable__control:checked~label.sk-toggleable__label-arrow:before {content: \"▾\";}#sk-container-id-17 div.sk-estimator input.sk-toggleable__control:checked~label.sk-toggleable__label {background-color: #d4ebff;}#sk-container-id-17 div.sk-label input.sk-toggleable__control:checked~label.sk-toggleable__label {background-color: #d4ebff;}#sk-container-id-17 input.sk-hidden--visually {border: 0;clip: rect(1px 1px 1px 1px);clip: rect(1px, 1px, 1px, 1px);height: 1px;margin: -1px;overflow: hidden;padding: 0;position: absolute;width: 1px;}#sk-container-id-17 div.sk-estimator {font-family: monospace;background-color: #f0f8ff;border: 1px dotted black;border-radius: 0.25em;box-sizing: border-box;margin-bottom: 0.5em;}#sk-container-id-17 div.sk-estimator:hover {background-color: #d4ebff;}#sk-container-id-17 div.sk-parallel-item::after {content: \"\";width: 100%;border-bottom: 1px solid gray;flex-grow: 1;}#sk-container-id-17 div.sk-label:hover label.sk-toggleable__label {background-color: #d4ebff;}#sk-container-id-17 div.sk-serial::before {content: \"\";position: absolute;border-left: 1px solid gray;box-sizing: border-box;top: 0;bottom: 0;left: 50%;z-index: 0;}#sk-container-id-17 div.sk-serial {display: flex;flex-direction: column;align-items: center;background-color: white;padding-right: 0.2em;padding-left: 0.2em;position: relative;}#sk-container-id-17 div.sk-item {position: relative;z-index: 1;}#sk-container-id-17 div.sk-parallel {display: flex;align-items: stretch;justify-content: center;background-color: white;position: relative;}#sk-container-id-17 div.sk-item::before, #sk-container-id-17 div.sk-parallel-item::before {content: \"\";position: absolute;border-left: 1px solid gray;box-sizing: border-box;top: 0;bottom: 0;left: 50%;z-index: -1;}#sk-container-id-17 div.sk-parallel-item {display: flex;flex-direction: column;z-index: 1;position: relative;background-color: white;}#sk-container-id-17 div.sk-parallel-item:first-child::after {align-self: flex-end;width: 50%;}#sk-container-id-17 div.sk-parallel-item:last-child::after {align-self: flex-start;width: 50%;}#sk-container-id-17 div.sk-parallel-item:only-child::after {width: 0;}#sk-container-id-17 div.sk-dashed-wrapped {border: 1px dashed gray;margin: 0 0.4em 0.5em 0.4em;box-sizing: border-box;padding-bottom: 0.4em;background-color: white;}#sk-container-id-17 div.sk-label label {font-family: monospace;font-weight: bold;display: inline-block;line-height: 1.2em;}#sk-container-id-17 div.sk-label-container {text-align: center;}#sk-container-id-17 div.sk-container {/* jupyter's `normalize.less` sets `[hidden] { display: none; }` but bootstrap.min.css set `[hidden] { display: none !important; }` so we also need the `!important` here to be able to override the default hidden behavior on the sphinx rendered scikit-learn.org. See: https://github.com/scikit-learn/scikit-learn/issues/21755 */display: inline-block !important;position: relative;}#sk-container-id-17 div.sk-text-repr-fallback {display: none;}</style><div id=\"sk-container-id-17\" class=\"sk-top-container\"><div class=\"sk-text-repr-fallback\"><pre>GridSearchCV(cv=5, error_score=&#x27;raise&#x27;,\n",
       "             estimator=XGBClassifier(base_score=None, booster=None,\n",
       "                                     callbacks=None, colsample_bylevel=None,\n",
       "                                     colsample_bynode=None,\n",
       "                                     colsample_bytree=None, device=None,\n",
       "                                     early_stopping_rounds=None,\n",
       "                                     enable_categorical=False, eval_metric=None,\n",
       "                                     feature_types=None, gamma=None,\n",
       "                                     grow_policy=None, importance_type=None,\n",
       "                                     interaction_constraints=None...\n",
       "                                     max_delta_step=None, max_depth=None,\n",
       "                                     max_leaves=None, min_child_weight=None,\n",
       "                                     missing=nan, monotone_constraints=None,\n",
       "                                     multi_strategy=None, n_estimators=None,\n",
       "                                     n_jobs=None, num_parallel_tree=None,\n",
       "                                     random_state=0, ...),\n",
       "             param_grid={&#x27;colsample_bytree&#x27;: [0.7],\n",
       "                         &#x27;learning_rate&#x27;: [0.1, 0.2, 0.3], &#x27;max_depth&#x27;: [4, 6],\n",
       "                         &#x27;min_child_weight&#x27;: [3, 5],\n",
       "                         &#x27;n_estimators&#x27;: [5, 10, 15], &#x27;subsample&#x27;: [0.7]},\n",
       "             refit=&#x27;f1&#x27;)</pre><b>In a Jupyter environment, please rerun this cell to show the HTML representation or trust the notebook. <br />On GitHub, the HTML representation is unable to render, please try loading this page with nbviewer.org.</b></div><div class=\"sk-container\" hidden><div class=\"sk-item sk-dashed-wrapped\"><div class=\"sk-label-container\"><div class=\"sk-label sk-toggleable\"><input class=\"sk-toggleable__control sk-hidden--visually\" id=\"sk-estimator-id-49\" type=\"checkbox\" ><label for=\"sk-estimator-id-49\" class=\"sk-toggleable__label sk-toggleable__label-arrow\">GridSearchCV</label><div class=\"sk-toggleable__content\"><pre>GridSearchCV(cv=5, error_score=&#x27;raise&#x27;,\n",
       "             estimator=XGBClassifier(base_score=None, booster=None,\n",
       "                                     callbacks=None, colsample_bylevel=None,\n",
       "                                     colsample_bynode=None,\n",
       "                                     colsample_bytree=None, device=None,\n",
       "                                     early_stopping_rounds=None,\n",
       "                                     enable_categorical=False, eval_metric=None,\n",
       "                                     feature_types=None, gamma=None,\n",
       "                                     grow_policy=None, importance_type=None,\n",
       "                                     interaction_constraints=None...\n",
       "                                     max_delta_step=None, max_depth=None,\n",
       "                                     max_leaves=None, min_child_weight=None,\n",
       "                                     missing=nan, monotone_constraints=None,\n",
       "                                     multi_strategy=None, n_estimators=None,\n",
       "                                     n_jobs=None, num_parallel_tree=None,\n",
       "                                     random_state=0, ...),\n",
       "             param_grid={&#x27;colsample_bytree&#x27;: [0.7],\n",
       "                         &#x27;learning_rate&#x27;: [0.1, 0.2, 0.3], &#x27;max_depth&#x27;: [4, 6],\n",
       "                         &#x27;min_child_weight&#x27;: [3, 5],\n",
       "                         &#x27;n_estimators&#x27;: [5, 10, 15], &#x27;subsample&#x27;: [0.7]},\n",
       "             refit=&#x27;f1&#x27;)</pre></div></div></div><div class=\"sk-parallel\"><div class=\"sk-parallel-item\"><div class=\"sk-item\"><div class=\"sk-label-container\"><div class=\"sk-label sk-toggleable\"><input class=\"sk-toggleable__control sk-hidden--visually\" id=\"sk-estimator-id-50\" type=\"checkbox\" ><label for=\"sk-estimator-id-50\" class=\"sk-toggleable__label sk-toggleable__label-arrow\">estimator: XGBClassifier</label><div class=\"sk-toggleable__content\"><pre>XGBClassifier(base_score=None, booster=None, callbacks=None,\n",
       "              colsample_bylevel=None, colsample_bynode=None,\n",
       "              colsample_bytree=None, device=None, early_stopping_rounds=None,\n",
       "              enable_categorical=False, eval_metric=None, feature_types=None,\n",
       "              gamma=None, grow_policy=None, importance_type=None,\n",
       "              interaction_constraints=None, learning_rate=None, max_bin=None,\n",
       "              max_cat_threshold=None, max_cat_to_onehot=None,\n",
       "              max_delta_step=None, max_depth=None, max_leaves=None,\n",
       "              min_child_weight=None, missing=nan, monotone_constraints=None,\n",
       "              multi_strategy=None, n_estimators=None, n_jobs=None,\n",
       "              num_parallel_tree=None, random_state=0, ...)</pre></div></div></div><div class=\"sk-serial\"><div class=\"sk-item\"><div class=\"sk-estimator sk-toggleable\"><input class=\"sk-toggleable__control sk-hidden--visually\" id=\"sk-estimator-id-51\" type=\"checkbox\" ><label for=\"sk-estimator-id-51\" class=\"sk-toggleable__label sk-toggleable__label-arrow\">XGBClassifier</label><div class=\"sk-toggleable__content\"><pre>XGBClassifier(base_score=None, booster=None, callbacks=None,\n",
       "              colsample_bylevel=None, colsample_bynode=None,\n",
       "              colsample_bytree=None, device=None, early_stopping_rounds=None,\n",
       "              enable_categorical=False, eval_metric=None, feature_types=None,\n",
       "              gamma=None, grow_policy=None, importance_type=None,\n",
       "              interaction_constraints=None, learning_rate=None, max_bin=None,\n",
       "              max_cat_threshold=None, max_cat_to_onehot=None,\n",
       "              max_delta_step=None, max_depth=None, max_leaves=None,\n",
       "              min_child_weight=None, missing=nan, monotone_constraints=None,\n",
       "              multi_strategy=None, n_estimators=None, n_jobs=None,\n",
       "              num_parallel_tree=None, random_state=0, ...)</pre></div></div></div></div></div></div></div></div></div></div>"
      ],
      "text/plain": [
       "GridSearchCV(cv=5, error_score='raise',\n",
       "             estimator=XGBClassifier(base_score=None, booster=None,\n",
       "                                     callbacks=None, colsample_bylevel=None,\n",
       "                                     colsample_bynode=None,\n",
       "                                     colsample_bytree=None, device=None,\n",
       "                                     early_stopping_rounds=None,\n",
       "                                     enable_categorical=False, eval_metric=None,\n",
       "                                     feature_types=None, gamma=None,\n",
       "                                     grow_policy=None, importance_type=None,\n",
       "                                     interaction_constraints=None...\n",
       "                                     max_delta_step=None, max_depth=None,\n",
       "                                     max_leaves=None, min_child_weight=None,\n",
       "                                     missing=nan, monotone_constraints=None,\n",
       "                                     multi_strategy=None, n_estimators=None,\n",
       "                                     n_jobs=None, num_parallel_tree=None,\n",
       "                                     random_state=0, ...),\n",
       "             param_grid={'colsample_bytree': [0.7],\n",
       "                         'learning_rate': [0.1, 0.2, 0.3], 'max_depth': [4, 6],\n",
       "                         'min_child_weight': [3, 5],\n",
       "                         'n_estimators': [5, 10, 15], 'subsample': [0.7]},\n",
       "             refit='f1')"
      ]
     },
     "execution_count": 1759,
     "metadata": {},
     "output_type": "execute_result"
    }
   ],
   "source": [
    "from xgboost import XGBClassifier\n",
    "from xgboost import plot_importance\n",
    "\n",
    "xgb = XGBClassifier(objective='binary:logistic', random_state=0)\n",
    "\n",
    "cv_params = {'max_depth': [4, 6],\n",
    "              'min_child_weight': [3, 5],\n",
    "              'learning_rate': [0.1, 0.2, 0.3],\n",
    "              'n_estimators': [5,10,15],\n",
    "              'subsample': [0.7],\n",
    "              'colsample_bytree': [0.7]\n",
    "              }\n",
    "\n",
    "xgb_cv = GridSearchCV(xgb, cv_params,cv = 5,refit = 'f1', error_score='raise')\n",
    "\n",
    "xgb_cv = xgb_cv.fit(train[predictors], train['win'])\n",
    "xgb_cv"
   ]
  },
  {
   "cell_type": "markdown",
   "id": "b81a58b1",
   "metadata": {},
   "source": [
    "# Setting the predictions using predictors from RF model. Checking scores."
   ]
  },
  {
   "cell_type": "code",
   "execution_count": 1760,
   "id": "3fd4e800",
   "metadata": {},
   "outputs": [],
   "source": [
    "y_pred = xgb_cv.predict(test[predictors])"
   ]
  },
  {
   "cell_type": "markdown",
   "id": "55305cb7",
   "metadata": {},
   "source": [
    "# Checking the scores using the boost method on the test data."
   ]
  },
  {
   "cell_type": "code",
   "execution_count": 1761,
   "id": "072f55e3",
   "metadata": {},
   "outputs": [
    {
     "data": {
      "text/plain": [
       "0.571370475803172"
      ]
     },
     "execution_count": 1761,
     "metadata": {},
     "output_type": "execute_result"
    }
   ],
   "source": [
    "accuracy_score(test['win'],y_pred)"
   ]
  },
  {
   "cell_type": "code",
   "execution_count": 1733,
   "id": "54c7295e",
   "metadata": {
    "scrolled": true
   },
   "outputs": [
    {
     "data": {
      "text/plain": [
       "0.5716652858326429"
      ]
     },
     "execution_count": 1733,
     "metadata": {},
     "output_type": "execute_result"
    }
   ],
   "source": [
    "precision_score(test['win'], y_pred)"
   ]
  },
  {
   "cell_type": "code",
   "execution_count": 1734,
   "id": "9cea2b1a",
   "metadata": {
    "scrolled": true
   },
   "outputs": [
    {
     "data": {
      "text/plain": [
       "0.5623471882640587"
      ]
     },
     "execution_count": 1734,
     "metadata": {},
     "output_type": "execute_result"
    }
   ],
   "source": [
    "recall_score(test['win'], y_pred)"
   ]
  },
  {
   "cell_type": "code",
   "execution_count": 1735,
   "id": "049c205f",
   "metadata": {},
   "outputs": [
    {
     "data": {
      "text/plain": [
       "0.5669679539852095"
      ]
     },
     "execution_count": 1735,
     "metadata": {},
     "output_type": "execute_result"
    }
   ],
   "source": [
    "f1_score(test['win'], y_pred)"
   ]
  },
  {
   "cell_type": "markdown",
   "id": "36677b98",
   "metadata": {},
   "source": [
    "# Visualizing relationships"
   ]
  },
  {
   "cell_type": "code",
   "execution_count": 1736,
   "id": "6472aca6",
   "metadata": {
    "scrolled": true
   },
   "outputs": [
    {
     "data": {
      "text/html": [
       "<div>\n",
       "<style scoped>\n",
       "    .dataframe tbody tr th:only-of-type {\n",
       "        vertical-align: middle;\n",
       "    }\n",
       "\n",
       "    .dataframe tbody tr th {\n",
       "        vertical-align: top;\n",
       "    }\n",
       "\n",
       "    .dataframe thead th {\n",
       "        text-align: right;\n",
       "    }\n",
       "</style>\n",
       "<table border=\"1\" class=\"dataframe\">\n",
       "  <thead>\n",
       "    <tr style=\"text-align: right;\">\n",
       "      <th>prediction</th>\n",
       "      <th>0</th>\n",
       "      <th>1</th>\n",
       "    </tr>\n",
       "    <tr>\n",
       "      <th>actual</th>\n",
       "      <th></th>\n",
       "      <th></th>\n",
       "    </tr>\n",
       "  </thead>\n",
       "  <tbody>\n",
       "    <tr>\n",
       "      <th>0</th>\n",
       "      <td>715</td>\n",
       "      <td>517</td>\n",
       "    </tr>\n",
       "    <tr>\n",
       "      <th>1</th>\n",
       "      <td>537</td>\n",
       "      <td>690</td>\n",
       "    </tr>\n",
       "  </tbody>\n",
       "</table>\n",
       "</div>"
      ],
      "text/plain": [
       "prediction    0    1\n",
       "actual              \n",
       "0           715  517\n",
       "1           537  690"
      ]
     },
     "execution_count": 1736,
     "metadata": {},
     "output_type": "execute_result"
    }
   ],
   "source": [
    "combined2 = pd.DataFrame(dict(actual=test['win'], prediction=y_pred))\n",
    "\n",
    "pd.crosstab(index=combined2['actual'], columns=combined2['prediction'])"
   ]
  },
  {
   "cell_type": "markdown",
   "id": "68e93aa9",
   "metadata": {},
   "source": [
    "# Because there are two rows for every fight, I am going to check the accuracy of the predictions when both rows give the same result. I am using the Random Forest Classifier becuase it returned better results initially."
   ]
  },
  {
   "cell_type": "code",
   "execution_count": 1765,
   "id": "bdd0dc6f",
   "metadata": {},
   "outputs": [],
   "source": [
    "p = rf.predict(test[predictors])\n",
    "\n",
    "pp = pd.DataFrame(dict(prediction=p), index=test.index)\n",
    "\n",
    "ppp = pp.merge(test[['date', 'fighter', 'opponent', 'win']], left_index=True, right_index=True)"
   ]
  },
  {
   "cell_type": "markdown",
   "id": "fe96b910",
   "metadata": {},
   "source": [
    "# Now we have a data frame with the predictions and the actual results."
   ]
  },
  {
   "cell_type": "code",
   "execution_count": 1766,
   "id": "74a37d54",
   "metadata": {},
   "outputs": [
    {
     "data": {
      "text/html": [
       "<div>\n",
       "<style scoped>\n",
       "    .dataframe tbody tr th:only-of-type {\n",
       "        vertical-align: middle;\n",
       "    }\n",
       "\n",
       "    .dataframe tbody tr th {\n",
       "        vertical-align: top;\n",
       "    }\n",
       "\n",
       "    .dataframe thead th {\n",
       "        text-align: right;\n",
       "    }\n",
       "</style>\n",
       "<table border=\"1\" class=\"dataframe\">\n",
       "  <thead>\n",
       "    <tr style=\"text-align: right;\">\n",
       "      <th></th>\n",
       "      <th>prediction</th>\n",
       "      <th>date</th>\n",
       "      <th>fighter</th>\n",
       "      <th>opponent</th>\n",
       "      <th>win</th>\n",
       "    </tr>\n",
       "  </thead>\n",
       "  <tbody>\n",
       "    <tr>\n",
       "      <th>4869</th>\n",
       "      <td>1</td>\n",
       "      <td>2022-12-03</td>\n",
       "      <td>Jonathan Pearce</td>\n",
       "      <td>Darren Elkins</td>\n",
       "      <td>1</td>\n",
       "    </tr>\n",
       "    <tr>\n",
       "      <th>9502</th>\n",
       "      <td>0</td>\n",
       "      <td>2021-12-04</td>\n",
       "      <td>Vince Morales</td>\n",
       "      <td>Louis Smolka</td>\n",
       "      <td>1</td>\n",
       "    </tr>\n",
       "    <tr>\n",
       "      <th>9835</th>\n",
       "      <td>0</td>\n",
       "      <td>2021-10-30</td>\n",
       "      <td>Zubaira Tukhugov</td>\n",
       "      <td>Ricardo Ramos</td>\n",
       "      <td>1</td>\n",
       "    </tr>\n",
       "    <tr>\n",
       "      <th>6533</th>\n",
       "      <td>1</td>\n",
       "      <td>2021-08-07</td>\n",
       "      <td>Melissa Gatto</td>\n",
       "      <td>Victoria Leonardo</td>\n",
       "      <td>1</td>\n",
       "    </tr>\n",
       "    <tr>\n",
       "      <th>9784</th>\n",
       "      <td>0</td>\n",
       "      <td>2016-12-10</td>\n",
       "      <td>Zach Makovsky</td>\n",
       "      <td>Dustin Ortiz</td>\n",
       "      <td>0</td>\n",
       "    </tr>\n",
       "    <tr>\n",
       "      <th>...</th>\n",
       "      <td>...</td>\n",
       "      <td>...</td>\n",
       "      <td>...</td>\n",
       "      <td>...</td>\n",
       "      <td>...</td>\n",
       "    </tr>\n",
       "    <tr>\n",
       "      <th>1515</th>\n",
       "      <td>0</td>\n",
       "      <td>2022-07-23</td>\n",
       "      <td>Charles Rosa</td>\n",
       "      <td>Nathaniel Wood</td>\n",
       "      <td>0</td>\n",
       "    </tr>\n",
       "    <tr>\n",
       "      <th>8260</th>\n",
       "      <td>0</td>\n",
       "      <td>2017-02-19</td>\n",
       "      <td>Ryan Janes</td>\n",
       "      <td>Gerald Meerschaert</td>\n",
       "      <td>0</td>\n",
       "    </tr>\n",
       "    <tr>\n",
       "      <th>6492</th>\n",
       "      <td>1</td>\n",
       "      <td>2021-01-16</td>\n",
       "      <td>Max Holloway</td>\n",
       "      <td>Calvin Kattar</td>\n",
       "      <td>1</td>\n",
       "    </tr>\n",
       "    <tr>\n",
       "      <th>5094</th>\n",
       "      <td>1</td>\n",
       "      <td>2023-03-04</td>\n",
       "      <td>Julian Marquez</td>\n",
       "      <td>Marc-Andre Barriault</td>\n",
       "      <td>0</td>\n",
       "    </tr>\n",
       "    <tr>\n",
       "      <th>7779</th>\n",
       "      <td>0</td>\n",
       "      <td>2015-10-03</td>\n",
       "      <td>Rashad Evans</td>\n",
       "      <td>Ryan Bader</td>\n",
       "      <td>0</td>\n",
       "    </tr>\n",
       "  </tbody>\n",
       "</table>\n",
       "<p>2459 rows × 5 columns</p>\n",
       "</div>"
      ],
      "text/plain": [
       "      prediction       date           fighter              opponent  win\n",
       "4869           1 2022-12-03   Jonathan Pearce         Darren Elkins    1\n",
       "9502           0 2021-12-04     Vince Morales          Louis Smolka    1\n",
       "9835           0 2021-10-30  Zubaira Tukhugov         Ricardo Ramos    1\n",
       "6533           1 2021-08-07     Melissa Gatto     Victoria Leonardo    1\n",
       "9784           0 2016-12-10     Zach Makovsky          Dustin Ortiz    0\n",
       "...          ...        ...               ...                   ...  ...\n",
       "1515           0 2022-07-23      Charles Rosa        Nathaniel Wood    0\n",
       "8260           0 2017-02-19        Ryan Janes    Gerald Meerschaert    0\n",
       "6492           1 2021-01-16      Max Holloway         Calvin Kattar    1\n",
       "5094           1 2023-03-04    Julian Marquez  Marc-Andre Barriault    0\n",
       "7779           0 2015-10-03      Rashad Evans            Ryan Bader    0\n",
       "\n",
       "[2459 rows x 5 columns]"
      ]
     },
     "execution_count": 1766,
     "metadata": {},
     "output_type": "execute_result"
    }
   ],
   "source": [
    "ppp"
   ]
  },
  {
   "cell_type": "markdown",
   "id": "36570d7a",
   "metadata": {},
   "source": [
    "# Selecting the rows where the model predicted a win for a fighter when the fighter was both 'figther' and 'opponent'"
   ]
  },
  {
   "cell_type": "code",
   "execution_count": 1767,
   "id": "38848040",
   "metadata": {},
   "outputs": [],
   "source": [
    "merged = ppp.merge(ppp, left_on=['date', 'fighter'], right_on=['date', 'opponent'])\n",
    "\n",
    "yy = merged[(merged.prediction_x==1) & (merged.prediction_y==0)]"
   ]
  },
  {
   "cell_type": "markdown",
   "id": "9c3babe4",
   "metadata": {},
   "source": [
    "# Totaling prediction == loss(0) and actual == loss(0)"
   ]
  },
  {
   "cell_type": "code",
   "execution_count": 1768,
   "id": "b0f8ce2e",
   "metadata": {
    "scrolled": true
   },
   "outputs": [
    {
     "data": {
      "text/plain": [
       "(0, 85)"
      ]
     },
     "execution_count": 1768,
     "metadata": {},
     "output_type": "execute_result"
    }
   ],
   "source": [
    "yy.prediction_y.sum(), yy.win_y.sum()"
   ]
  },
  {
   "cell_type": "code",
   "execution_count": 1753,
   "id": "47fcb332",
   "metadata": {},
   "outputs": [
    {
     "data": {
      "text/html": [
       "<div>\n",
       "<style scoped>\n",
       "    .dataframe tbody tr th:only-of-type {\n",
       "        vertical-align: middle;\n",
       "    }\n",
       "\n",
       "    .dataframe tbody tr th {\n",
       "        vertical-align: top;\n",
       "    }\n",
       "\n",
       "    .dataframe thead th {\n",
       "        text-align: right;\n",
       "    }\n",
       "</style>\n",
       "<table border=\"1\" class=\"dataframe\">\n",
       "  <thead>\n",
       "    <tr style=\"text-align: right;\">\n",
       "      <th></th>\n",
       "      <th>prediction_x</th>\n",
       "      <th>date</th>\n",
       "      <th>fighter_x</th>\n",
       "      <th>opponent_x</th>\n",
       "      <th>win_x</th>\n",
       "      <th>prediction_y</th>\n",
       "      <th>fighter_y</th>\n",
       "      <th>opponent_y</th>\n",
       "      <th>win_y</th>\n",
       "    </tr>\n",
       "  </thead>\n",
       "  <tbody>\n",
       "    <tr>\n",
       "      <th>5</th>\n",
       "      <td>1</td>\n",
       "      <td>2011-12-10</td>\n",
       "      <td>Igor Pokrajac</td>\n",
       "      <td>Krzysztof Soszynski</td>\n",
       "      <td>1</td>\n",
       "      <td>0</td>\n",
       "      <td>Krzysztof Soszynski</td>\n",
       "      <td>Igor Pokrajac</td>\n",
       "      <td>0</td>\n",
       "    </tr>\n",
       "    <tr>\n",
       "      <th>10</th>\n",
       "      <td>1</td>\n",
       "      <td>2018-08-25</td>\n",
       "      <td>Bryan Barberena</td>\n",
       "      <td>Jake Ellenberger</td>\n",
       "      <td>1</td>\n",
       "      <td>0</td>\n",
       "      <td>Jake Ellenberger</td>\n",
       "      <td>Bryan Barberena</td>\n",
       "      <td>0</td>\n",
       "    </tr>\n",
       "    <tr>\n",
       "      <th>15</th>\n",
       "      <td>1</td>\n",
       "      <td>2015-01-18</td>\n",
       "      <td>Uriah Hall</td>\n",
       "      <td>Ron Stallings</td>\n",
       "      <td>1</td>\n",
       "      <td>0</td>\n",
       "      <td>Ron Stallings</td>\n",
       "      <td>Uriah Hall</td>\n",
       "      <td>0</td>\n",
       "    </tr>\n",
       "    <tr>\n",
       "      <th>17</th>\n",
       "      <td>1</td>\n",
       "      <td>2019-07-06</td>\n",
       "      <td>Ben Askren</td>\n",
       "      <td>Jorge Masvidal</td>\n",
       "      <td>0</td>\n",
       "      <td>0</td>\n",
       "      <td>Jorge Masvidal</td>\n",
       "      <td>Ben Askren</td>\n",
       "      <td>1</td>\n",
       "    </tr>\n",
       "    <tr>\n",
       "      <th>21</th>\n",
       "      <td>1</td>\n",
       "      <td>2018-07-06</td>\n",
       "      <td>Julian Marquez</td>\n",
       "      <td>Alessio Di Chirico</td>\n",
       "      <td>0</td>\n",
       "      <td>0</td>\n",
       "      <td>Alessio Di Chirico</td>\n",
       "      <td>Julian Marquez</td>\n",
       "      <td>1</td>\n",
       "    </tr>\n",
       "    <tr>\n",
       "      <th>...</th>\n",
       "      <td>...</td>\n",
       "      <td>...</td>\n",
       "      <td>...</td>\n",
       "      <td>...</td>\n",
       "      <td>...</td>\n",
       "      <td>...</td>\n",
       "      <td>...</td>\n",
       "      <td>...</td>\n",
       "      <td>...</td>\n",
       "    </tr>\n",
       "    <tr>\n",
       "      <th>589</th>\n",
       "      <td>1</td>\n",
       "      <td>2019-09-14</td>\n",
       "      <td>Michel Pereira</td>\n",
       "      <td>Tristan Connelly</td>\n",
       "      <td>0</td>\n",
       "      <td>0</td>\n",
       "      <td>Tristan Connelly</td>\n",
       "      <td>Michel Pereira</td>\n",
       "      <td>1</td>\n",
       "    </tr>\n",
       "    <tr>\n",
       "      <th>592</th>\n",
       "      <td>1</td>\n",
       "      <td>2012-12-14</td>\n",
       "      <td>Hector Lombard</td>\n",
       "      <td>Rousimar Palhares</td>\n",
       "      <td>1</td>\n",
       "      <td>0</td>\n",
       "      <td>Rousimar Palhares</td>\n",
       "      <td>Hector Lombard</td>\n",
       "      <td>0</td>\n",
       "    </tr>\n",
       "    <tr>\n",
       "      <th>593</th>\n",
       "      <td>1</td>\n",
       "      <td>2015-03-14</td>\n",
       "      <td>Anthony Pettis</td>\n",
       "      <td>Rafael Dos Anjos</td>\n",
       "      <td>0</td>\n",
       "      <td>0</td>\n",
       "      <td>Rafael Dos Anjos</td>\n",
       "      <td>Anthony Pettis</td>\n",
       "      <td>1</td>\n",
       "    </tr>\n",
       "    <tr>\n",
       "      <th>602</th>\n",
       "      <td>1</td>\n",
       "      <td>2017-03-04</td>\n",
       "      <td>Mirsad Bektic</td>\n",
       "      <td>Darren Elkins</td>\n",
       "      <td>0</td>\n",
       "      <td>0</td>\n",
       "      <td>Darren Elkins</td>\n",
       "      <td>Mirsad Bektic</td>\n",
       "      <td>1</td>\n",
       "    </tr>\n",
       "    <tr>\n",
       "      <th>603</th>\n",
       "      <td>1</td>\n",
       "      <td>2021-11-06</td>\n",
       "      <td>Zhang Weili</td>\n",
       "      <td>Rose Namajunas</td>\n",
       "      <td>0</td>\n",
       "      <td>0</td>\n",
       "      <td>Rose Namajunas</td>\n",
       "      <td>Zhang Weili</td>\n",
       "      <td>1</td>\n",
       "    </tr>\n",
       "  </tbody>\n",
       "</table>\n",
       "<p>221 rows × 9 columns</p>\n",
       "</div>"
      ],
      "text/plain": [
       "     prediction_x       date        fighter_x           opponent_x  win_x  \\\n",
       "5               1 2011-12-10    Igor Pokrajac  Krzysztof Soszynski      1   \n",
       "10              1 2018-08-25  Bryan Barberena     Jake Ellenberger      1   \n",
       "15              1 2015-01-18       Uriah Hall        Ron Stallings      1   \n",
       "17              1 2019-07-06       Ben Askren       Jorge Masvidal      0   \n",
       "21              1 2018-07-06   Julian Marquez   Alessio Di Chirico      0   \n",
       "..            ...        ...              ...                  ...    ...   \n",
       "589             1 2019-09-14   Michel Pereira     Tristan Connelly      0   \n",
       "592             1 2012-12-14   Hector Lombard    Rousimar Palhares      1   \n",
       "593             1 2015-03-14   Anthony Pettis     Rafael Dos Anjos      0   \n",
       "602             1 2017-03-04    Mirsad Bektic        Darren Elkins      0   \n",
       "603             1 2021-11-06      Zhang Weili       Rose Namajunas      0   \n",
       "\n",
       "     prediction_y            fighter_y       opponent_y  win_y  \n",
       "5               0  Krzysztof Soszynski    Igor Pokrajac      0  \n",
       "10              0     Jake Ellenberger  Bryan Barberena      0  \n",
       "15              0        Ron Stallings       Uriah Hall      0  \n",
       "17              0       Jorge Masvidal       Ben Askren      1  \n",
       "21              0   Alessio Di Chirico   Julian Marquez      1  \n",
       "..            ...                  ...              ...    ...  \n",
       "589             0     Tristan Connelly   Michel Pereira      1  \n",
       "592             0    Rousimar Palhares   Hector Lombard      0  \n",
       "593             0     Rafael Dos Anjos   Anthony Pettis      1  \n",
       "602             0        Darren Elkins    Mirsad Bektic      1  \n",
       "603             0       Rose Namajunas      Zhang Weili      1  \n",
       "\n",
       "[221 rows x 9 columns]"
      ]
     },
     "execution_count": 1753,
     "metadata": {},
     "output_type": "execute_result"
    }
   ],
   "source": [
    "yy"
   ]
  },
  {
   "cell_type": "markdown",
   "id": "db4cbb24",
   "metadata": {},
   "source": [
    "# Correct 0 predictions over total outcomes == 61.5%"
   ]
  },
  {
   "cell_type": "code",
   "execution_count": 1754,
   "id": "25fb3fad",
   "metadata": {},
   "outputs": [
    {
     "data": {
      "text/plain": [
       "0.6153846153846154"
      ]
     },
     "execution_count": 1754,
     "metadata": {},
     "output_type": "execute_result"
    }
   ],
   "source": [
    "x = 221-85\n",
    "x/221"
   ]
  },
  {
   "cell_type": "markdown",
   "id": "2c6ebb30",
   "metadata": {},
   "source": [
    "# Finding the accuracy when the prediction == win(1)"
   ]
  },
  {
   "cell_type": "code",
   "execution_count": 1769,
   "id": "2ada8085",
   "metadata": {
    "scrolled": true
   },
   "outputs": [
    {
     "data": {
      "text/plain": [
       "(221, 135)"
      ]
     },
     "execution_count": 1769,
     "metadata": {},
     "output_type": "execute_result"
    }
   ],
   "source": [
    "yy.prediction_x.sum(), yy.win_x.sum()"
   ]
  },
  {
   "cell_type": "markdown",
   "id": "93852259",
   "metadata": {},
   "source": [
    "# 61% for predictions of 1"
   ]
  },
  {
   "cell_type": "code",
   "execution_count": 1770,
   "id": "8f5c9858",
   "metadata": {},
   "outputs": [
    {
     "data": {
      "text/plain": [
       "0.6108597285067874"
      ]
     },
     "execution_count": 1770,
     "metadata": {},
     "output_type": "execute_result"
    }
   ],
   "source": [
    "135/221"
   ]
  },
  {
   "cell_type": "markdown",
   "id": "357abcfe",
   "metadata": {},
   "source": [
    "# Selecting for matching results for both instances of the same event (the fight) has improved our model from 58 % accuracy to 61% accuracy"
   ]
  },
  {
   "cell_type": "markdown",
   "id": "811102cc",
   "metadata": {},
   "source": [
    "# Now I will create a df for the upcoming fights and make predictions. Fist I read in my csv for all fighters."
   ]
  },
  {
   "cell_type": "code",
   "execution_count": 889,
   "id": "1bbcb2fd",
   "metadata": {},
   "outputs": [],
   "source": [
    "fighter_df = pd.read_csv('fighter_df')"
   ]
  },
  {
   "cell_type": "markdown",
   "id": "ee963928",
   "metadata": {},
   "source": [
    "# Cleaning fighter info df"
   ]
  },
  {
   "cell_type": "code",
   "execution_count": 898,
   "id": "7989853a",
   "metadata": {},
   "outputs": [],
   "source": [
    "fighter_df = fighter_df.drop(['Nickname', 'Stance', 'W', 'L', 'D', 'Belt'], axis=1)\n",
    "\n",
    "fighter_df['fighter'] = fighter_df['First'] + ' ' + fighter_df['Last']\n",
    "\n",
    "fighter_df = fighter_df.reset_index()\n",
    "\n",
    "fighter_df = fighter_df.drop(['index'], axis=1)\n",
    "\n",
    "fighter_df = fighter_df.drop(['First', 'Last'], axis=1)"
   ]
  },
  {
   "cell_type": "markdown",
   "id": "42b5767e",
   "metadata": {},
   "source": [
    "# Requesting fight table for upcoming fight"
   ]
  },
  {
   "cell_type": "code",
   "execution_count": 1392,
   "id": "33a0ada3",
   "metadata": {},
   "outputs": [],
   "source": [
    "fights_url = \"http://www.ufcstats.com/statistics/events/completed\""
   ]
  },
  {
   "cell_type": "code",
   "execution_count": 1395,
   "id": "ae49f029",
   "metadata": {},
   "outputs": [],
   "source": [
    "data = requests.get(fights_url)"
   ]
  },
  {
   "cell_type": "code",
   "execution_count": 1396,
   "id": "5f164558",
   "metadata": {},
   "outputs": [],
   "source": [
    "soup = BeautifulSoup(data.text)\n",
    "fight_table = soup.select(\"table.b-statistics__table-events\")[0] \n",
    "\n",
    "links = fight_table.find_all('a')\n",
    "\n",
    "links = [l.get(\"href\") for l in links]"
   ]
  },
  {
   "cell_type": "code",
   "execution_count": 1397,
   "id": "65c0c965",
   "metadata": {},
   "outputs": [],
   "source": [
    "upcoming = links[0] # selecting the upcoming fight"
   ]
  },
  {
   "cell_type": "code",
   "execution_count": 1398,
   "id": "2a86c786",
   "metadata": {},
   "outputs": [],
   "source": [
    "data = requests.get(upcoming) # requesting each fight card individually\n",
    "fights = pd.read_html(data.text)\n",
    "card = fights[0]"
   ]
  },
  {
   "cell_type": "markdown",
   "id": "fe580793",
   "metadata": {},
   "source": [
    "# Seperating the names of the fighters into winner and loser, adding the date."
   ]
  },
  {
   "cell_type": "code",
   "execution_count": 1466,
   "id": "7e37d489",
   "metadata": {},
   "outputs": [],
   "source": [
    "soup = BeautifulSoup(data.text)\n",
    "date = soup.select(\"li.b-list__box-list-item\") # uses bs to find date, separate date, and convert\n",
    "date1 = str(date[0])                           # date to date time.\n",
    "date2 = date1.split('\\n')\n",
    "date = date2[-2].strip()\n",
    "date = pd.to_datetime(date)\n",
    "card['date'] = date\n",
    "card[['w_fighter','l_fighter']] = card['Fighter'].str.split('  ', expand=True)"
   ]
  },
  {
   "cell_type": "markdown",
   "id": "9d32fafb",
   "metadata": {},
   "source": [
    "# Removing unwanted columns"
   ]
  },
  {
   "cell_type": "code",
   "execution_count": 1467,
   "id": "ac91ce01",
   "metadata": {},
   "outputs": [],
   "source": [
    "df = card.drop(['Fighter', 'Kd', 'Str', 'Td', 'Sub', 'Weight class', 'Method', 'Round', 'Time'], axis=1)"
   ]
  },
  {
   "cell_type": "markdown",
   "id": "9efea59c",
   "metadata": {},
   "source": [
    "# Creating two data frames, making the winner and the losser the fighter and the opponent, respectively. Then I merge the two data frames together. This creates two rows per event with each fighter as 'fighter' and 'opponent'"
   ]
  },
  {
   "cell_type": "code",
   "execution_count": 1468,
   "id": "1aee843c",
   "metadata": {},
   "outputs": [],
   "source": [
    "df2 = df.rename(columns={'w_fighter':'opponent', 'l_fighter':'fighter'})\n",
    "df = df.rename(columns={'w_fighter':'fighter', 'l_fighter':'opponent'})\n",
    "df3 = pd.concat([df.copy(),df2.copy()])"
   ]
  },
  {
   "cell_type": "markdown",
   "id": "95c6b774",
   "metadata": {},
   "source": [
    "# Merging fighter info to 'fighter' and 'opponent', adding reach and height"
   ]
  },
  {
   "cell_type": "code",
   "execution_count": 1469,
   "id": "8d66807d",
   "metadata": {},
   "outputs": [],
   "source": [
    "df3 = df3.merge(fighter_df, how='left', on='fighter')"
   ]
  },
  {
   "cell_type": "code",
   "execution_count": 1470,
   "id": "72ac04bb",
   "metadata": {},
   "outputs": [],
   "source": [
    "df3 = df3.merge(fighter_df, left_on='opponent', right_on='fighter')"
   ]
  },
  {
   "cell_type": "markdown",
   "id": "af2e8446",
   "metadata": {},
   "source": [
    "# Cleaning data"
   ]
  },
  {
   "cell_type": "code",
   "execution_count": 1126,
   "id": "3b89f0aa",
   "metadata": {},
   "outputs": [
    {
     "data": {
      "text/plain": [
       "Index(['W/L', 'date', 'fighter_x', 'opponent', 'Ht._x', 'Wt._x', 'Reach_x',\n",
       "       'Ht._y', 'Wt._y', 'Reach_y', 'fighter_y'],\n",
       "      dtype='object')"
      ]
     },
     "execution_count": 1126,
     "metadata": {},
     "output_type": "execute_result"
    }
   ],
   "source": [
    "df3.columns"
   ]
  },
  {
   "cell_type": "code",
   "execution_count": 1472,
   "id": "707f7fd1",
   "metadata": {},
   "outputs": [],
   "source": [
    "df3 = df3.drop(['fighter_y'], axis=1)"
   ]
  },
  {
   "cell_type": "code",
   "execution_count": 1473,
   "id": "18ab4e89",
   "metadata": {},
   "outputs": [],
   "source": [
    "df3 = df3.rename(columns={'W/L':'win', 'fighter_x':'fighter', 'Ht._x':'fighter_ht', 'Reach_x':'fighter_reach'\\\n",
    "                         ,'Ht._y':'opp_ht', 'Reach_y':'opp_reach'})"
   ]
  },
  {
   "cell_type": "markdown",
   "id": "760dbea8",
   "metadata": {},
   "source": [
    "# Removing chicken scratches from feet and inches and creating numeric columns"
   ]
  },
  {
   "cell_type": "code",
   "execution_count": 1474,
   "id": "3299f8da",
   "metadata": {},
   "outputs": [],
   "source": [
    "df3['opp_ht'] = df3['opp_ht'].map(lambda x: x.replace('\\'', '').strip())\n",
    "df3['opp_ht'] = df3['opp_ht'].map(lambda x: x.replace('\\\"', '').strip())\n",
    "\n",
    "df3['fighter_ht'] = df3['fighter_ht'].map(lambda x: x.replace('\\'', '').strip())\n",
    "df3['fighter_ht'] = df3['fighter_ht'].map(lambda x: x.replace('\\\"', '').strip())\n",
    "\n",
    "df3[['feet', 'inches']] = df3['opp_ht'].str.split(' ', expand=True)\n",
    "\n",
    "df3[['ffeet', 'finches']] = df3['fighter_ht'].str.split(' ', expand=True)\n",
    "\n",
    "df3['feet'] = pd.to_numeric(df3['feet'], errors='coerce').astype('Int64')\n",
    "\n",
    "df3['ffeet'] = pd.to_numeric(df3['ffeet'], errors='coerce').astype('Int64')\n",
    "\n",
    "df3['inches'] = pd.to_numeric(df3['inches'], errors='coerce').astype('Int64')\n",
    "\n",
    "df3['finches'] = pd.to_numeric(df3['finches'], errors='coerce').astype('Int64')\n",
    "\n",
    "df3['feet'] = df3['feet']*12\n",
    "\n",
    "df3['ffeet'] = df3['ffeet']*12\n",
    "\n",
    "df3['opp_ht'] = df3['feet']+df3['inches']\n",
    "\n",
    "df3['fighter_ht'] = df3['ffeet']+df3['finches']\n",
    "\n",
    "df3 = df3.drop(['feet', 'inches', 'ffeet', 'finches'], axis=1)\n",
    "\n",
    "df3['fighter_reach'] = df3['fighter_reach'].map(lambda x: x.replace('\\\"', '').strip())\n",
    "df3['opp_reach'] = df3['opp_reach'].map(lambda x: x.replace('\\\"', '').strip())\n",
    "\n",
    "df3['fighter_reach'] = df3['fighter_reach'].map(lambda x: x.replace('.0', '').strip())\n",
    "df3['opp_reach'] = df3['opp_reach'].map(lambda x: x.replace('.0', '').strip())\n",
    "\n",
    "df3['fighter_reach'] = pd.to_numeric(df3['fighter_reach'], errors='coerce').astype('Int64')\n",
    "df3['opp_reach'] = pd.to_numeric(df3['opp_reach'], errors='coerce').astype('Int64')\n",
    "\n",
    "df3 = df3.drop(['Wt._x', 'Wt._y'], axis=1)"
   ]
  },
  {
   "cell_type": "markdown",
   "id": "229a4731",
   "metadata": {},
   "source": [
    "# Adding date of birth info for 'fighter' and 'opponent' "
   ]
  },
  {
   "cell_type": "code",
   "execution_count": 1475,
   "id": "2082a4f0",
   "metadata": {},
   "outputs": [],
   "source": [
    "df3_ml = df3.copy()\n",
    "\n",
    "df3_ml.to_csv('df3_ml', index=False)\n",
    "\n",
    "age_df = pd.read_csv('age_df')\n",
    "\n",
    "df3_ml = df3_ml.merge(age_df, on='fighter', how='left')\n",
    "\n",
    "df3_ml = df3_ml.merge(age_df, left_on='opponent', right_on='fighter')\n",
    "\n",
    "df3_ml = df3_ml.rename(columns={'dob_x':'fighter_dob', 'dob_y':'opp_dob','fighter_x':'fighter'})\n",
    "\n",
    "df3_ml = df3_ml.drop(['fighter_y'], axis=1)"
   ]
  },
  {
   "cell_type": "markdown",
   "id": "80078bf9",
   "metadata": {},
   "source": [
    "# Changing DOBs to datetime, subtracting from fight date to get age, replacing days with a blank so days can be converted to an int. Subtracting dob from date to get exact age on fight night."
   ]
  },
  {
   "cell_type": "code",
   "execution_count": 1476,
   "id": "b1a7fea5",
   "metadata": {},
   "outputs": [],
   "source": [
    "df3_ml['fighter_dob'] = pd.to_datetime(df3_ml['fighter_dob'], errors='coerce')\n",
    "df3_ml['opp_dob'] = pd.to_datetime(df3_ml['opp_dob'], errors='coerce')\n",
    "df3_ml['fighter_age'] = df3_ml['date'] - df3_ml['fighter_dob']\n",
    "df3_ml['opp_age'] = df3_ml['date'] - df3_ml['opp_dob']\n",
    "df3_ml[['fighter_age','opp_age']] = df3_ml[['fighter_age','opp_age']].astype(str)\n",
    "\n",
    "df3_ml['fighter_age'] = df3_ml['fighter_age'].str.replace(' days', '')\n",
    "df3_ml['opp_age'] = df3_ml['opp_age'].str.replace(' days', '')"
   ]
  },
  {
   "cell_type": "code",
   "execution_count": 1477,
   "id": "72a2d935",
   "metadata": {},
   "outputs": [],
   "source": [
    "df3_ml = df3_ml.drop(['fighter_dob', 'opp_dob'], axis=1)"
   ]
  },
  {
   "cell_type": "code",
   "execution_count": 1412,
   "id": "d6c38b7a",
   "metadata": {},
   "outputs": [],
   "source": [
    "df3_ml.to_csv('df3_ml', index=False)"
   ]
  },
  {
   "cell_type": "code",
   "execution_count": 1478,
   "id": "8252dc6b",
   "metadata": {},
   "outputs": [],
   "source": [
    "cf = df3_ml.copy()"
   ]
  },
  {
   "cell_type": "markdown",
   "id": "93727f95",
   "metadata": {},
   "source": [
    "# Adding NA columns so I can concatinated cf and df_f5. cf must be added to full df (df_f5) to calculate winning streak and losing streak."
   ]
  },
  {
   "cell_type": "code",
   "execution_count": 1480,
   "id": "6f781744",
   "metadata": {},
   "outputs": [],
   "source": [
    "cf[['wins','losses','draw','opp_wins','opp_losses','opp_draw',\\\n",
    "    'w_streak', 'l_streak', 'opp_w_streak', 'opp_l_streak']] = None"
   ]
  },
  {
   "cell_type": "code",
   "execution_count": 1519,
   "id": "dff83edb",
   "metadata": {},
   "outputs": [],
   "source": [
    "cf2 = pd.concat([df_f5, cf])"
   ]
  },
  {
   "cell_type": "markdown",
   "id": "0ca22367",
   "metadata": {},
   "source": [
    "# Sorting values by ascending date so the streaks are shifted forward in time."
   ]
  },
  {
   "cell_type": "code",
   "execution_count": 1391,
   "id": "0f821c6a",
   "metadata": {},
   "outputs": [],
   "source": [
    "df_f5.to_csv('df_f5', index=False)"
   ]
  },
  {
   "cell_type": "code",
   "execution_count": 1520,
   "id": "fb786dc0",
   "metadata": {},
   "outputs": [],
   "source": [
    "cf2 = cf2.sort_values(['fighter', 'date']).reset_index()\n",
    "\n",
    "# dropping index row created by reseting the index.\n",
    "\n",
    "cf2 = cf2.drop(['index'], axis=1)"
   ]
  },
  {
   "cell_type": "markdown",
   "id": "f5c22a49",
   "metadata": {},
   "source": [
    "# Changing the win == 0 to win == -1 so the streaks function works for the losing streak column."
   ]
  },
  {
   "cell_type": "code",
   "execution_count": 1521,
   "id": "b95ae458",
   "metadata": {},
   "outputs": [],
   "source": [
    "cf2['win'] = cf2['win'].where(cf2['win'] == 1, -1)\n",
    "\n"
   ]
  },
  {
   "cell_type": "markdown",
   "id": "3d7a7823",
   "metadata": {},
   "source": [
    "# Creating a function that finds the cumulative sum of recent wins and losses grouped by fighter."
   ]
  },
  {
   "cell_type": "code",
   "execution_count": 1522,
   "id": "974b8513",
   "metadata": {},
   "outputs": [],
   "source": [
    "def streaks(df):\n",
    "    s = df['win'].groupby([df['fighter'], (df['win']!=df['win'].shift()).cumsum()]).cumsum()\n",
    "    return df.assign(w_streak=s.where(s>0, 0), l_streak=s.where(s<1, 0).abs())\n",
    "\n",
    "cf2 = streaks(cf2)"
   ]
  },
  {
   "cell_type": "code",
   "execution_count": 1523,
   "id": "9abe3ae7",
   "metadata": {},
   "outputs": [],
   "source": [
    "cf2[['w_streak', 'l_streak']] = cf2[['w_streak', 'l_streak']].groupby(cf2['fighter']).shift()\n",
    "\n",
    "#cf2 = cf2.fillna(0)"
   ]
  },
  {
   "cell_type": "code",
   "execution_count": 600,
   "id": "c30f16f3",
   "metadata": {},
   "outputs": [],
   "source": [
    "pd.options.display.max_columns = None"
   ]
  },
  {
   "cell_type": "markdown",
   "id": "33d3fb19",
   "metadata": {},
   "source": [
    "# Resorting the values in descending order to backfill wins and losses."
   ]
  },
  {
   "cell_type": "code",
   "execution_count": 1524,
   "id": "1b115b6d",
   "metadata": {},
   "outputs": [],
   "source": [
    "cf2 = cf2.sort_values(['fighter', 'date'], ascending=False).reset_index()\n",
    "\n",
    "# dropping index row created by reseting the index.\n",
    "\n",
    "cf2 = cf2.drop(['index'], axis=1)"
   ]
  },
  {
   "cell_type": "markdown",
   "id": "b23017d6",
   "metadata": {},
   "source": [
    "# Filling in the wins and losses going into current week"
   ]
  },
  {
   "cell_type": "code",
   "execution_count": 1525,
   "id": "a451861b",
   "metadata": {},
   "outputs": [],
   "source": [
    "cf2['win'] = cf2['win'].where(cf2['win'] == 1, 0)\n",
    "\n",
    "\n",
    "cf2['ww'] = cf2['wins'][cf2['win']==1].add(1)\n",
    "\n",
    "cf2['ww'][cf2['win']==0] = cf2['wins']\n",
    "cf2['ww'][cf2['win']==2] = cf2['wins']\n",
    "\n",
    "cf2['ww'] = cf2.groupby('fighter')['ww'].fillna(method='bfill', limit=1)\n",
    "\n",
    "cf2['wins'][cf2['wins'].isna()] = cf2['ww']\n",
    "\n",
    "cf2['wl'] = cf2['losses'][cf2['win'] == 0].add(1)\n",
    "cf2['wl'][cf2['win']==1] = cf2['losses']\n",
    "cf2['wl'][cf2['win']==2] = cf2['losses']\n",
    "\n",
    "cf2['wl'] = cf2.groupby('fighter')['wl'].fillna(method='bfill', limit=1)\n",
    "\n",
    "cf2['losses'][cf2['losses'].isna()] = cf2['wl']"
   ]
  },
  {
   "cell_type": "markdown",
   "id": "2e43698d",
   "metadata": {},
   "source": [
    "# Merging to get current winning and losing streak for 'opponent' column"
   ]
  },
  {
   "cell_type": "code",
   "execution_count": 1527,
   "id": "06b74e56",
   "metadata": {},
   "outputs": [],
   "source": [
    "cf2 = cf2.merge(cf2, left_on=['opponent','date'], right_on=['fighter','date'])"
   ]
  },
  {
   "cell_type": "markdown",
   "id": "95d7a30e",
   "metadata": {},
   "source": [
    "# Dropping and renaming columns after merger."
   ]
  },
  {
   "cell_type": "code",
   "execution_count": 1066,
   "id": "ce19db6a",
   "metadata": {},
   "outputs": [
    {
     "data": {
      "text/plain": [
       "Index(['date', 'fighter_x', 'opponent_x', 'fighter_ht_x', 'fighter_reach_x',\n",
       "       'opp_ht_x', 'opp_reach_x', 'wins_x', 'losses_x', 'draw_x',\n",
       "       'fighter_age_x', 'opp_age_x', 'w_streak_x', 'l_streak_x', 'win_x',\n",
       "       'wins_y', 'losses_y', 'draw_y', 'w_streak_y', 'l_streak_y'],\n",
       "      dtype='object')"
      ]
     },
     "execution_count": 1066,
     "metadata": {},
     "output_type": "execute_result"
    }
   ],
   "source": [
    "cf2.columns"
   ]
  },
  {
   "cell_type": "code",
   "execution_count": 1528,
   "id": "fbc40451",
   "metadata": {},
   "outputs": [],
   "source": [
    "cf2 = cf2.drop(['opp_wins_x','opp_losses_x', 'opp_draw_x','opp_w_streak_x', 'opp_l_streak_x',\\\n",
    "               'ww_x', 'wl_x','fighter_y', 'opponent_y', 'fighter_ht_y','fighter_reach_y', 'opp_ht_y',\\\n",
    "                'opp_reach_y','opp_wins_y', 'opp_losses_y', 'opp_draw_y', 'fighter_age_y',\\\n",
    "                'opp_age_y','opp_w_streak_y','opp_l_streak_y', 'win_y', 'ww_y', 'wl_y'], axis=1)"
   ]
  },
  {
   "cell_type": "code",
   "execution_count": 1529,
   "id": "b9d0053f",
   "metadata": {},
   "outputs": [],
   "source": [
    "cf2 = cf2.rename(columns={'win_x':'win', 'fighter_x':'fighter', 'opponent_x':'opponent',\\\n",
    "                          'fighter_ht_x':'fighter_ht','fighter_reach_x':'fighter_reach', 'opp_ht_x':'opp_ht',\\\n",
    "                          'opp_reach_x':'opp_reach','wins_x':'wins', 'losses_x':'losses','draw_x':'draw',\\\n",
    "                          'fighter_age_x':'fighter_age','opp_age_x':'opp_age', 'w_streak_x':'w_streak',\\\n",
    "                          'l_streak_x':'l_streak','wins_y':'opp_wins', 'losses_y':'opp_losses',\\\n",
    "                          'draw_y':'opp_draw',\\\n",
    "                          'w_streak_y':'opp_w_streak', 'l_streak_y':'opp_l_streak'})"
   ]
  },
  {
   "cell_type": "markdown",
   "id": "69f8e027",
   "metadata": {},
   "source": [
    "# Changing NA to 0 for fighters without a draw."
   ]
  },
  {
   "cell_type": "code",
   "execution_count": 1530,
   "id": "c50ffb38",
   "metadata": {
    "scrolled": true
   },
   "outputs": [],
   "source": [
    "cf2['draw'][cf2['draw'].isna()] = 0\n",
    "cf2['opp_draw'][cf2['opp_draw'].isna()] = 0"
   ]
  },
  {
   "cell_type": "code",
   "execution_count": 1774,
   "id": "b9cd40fa",
   "metadata": {
    "scrolled": true
   },
   "outputs": [
    {
     "data": {
      "text/html": [
       "<div>\n",
       "<style scoped>\n",
       "    .dataframe tbody tr th:only-of-type {\n",
       "        vertical-align: middle;\n",
       "    }\n",
       "\n",
       "    .dataframe tbody tr th {\n",
       "        vertical-align: top;\n",
       "    }\n",
       "\n",
       "    .dataframe thead th {\n",
       "        text-align: right;\n",
       "    }\n",
       "</style>\n",
       "<table border=\"1\" class=\"dataframe\">\n",
       "  <thead>\n",
       "    <tr style=\"text-align: right;\">\n",
       "      <th></th>\n",
       "      <th>date</th>\n",
       "      <th>fighter</th>\n",
       "      <th>opponent</th>\n",
       "      <th>fighter_ht</th>\n",
       "      <th>fighter_reach</th>\n",
       "      <th>opp_ht</th>\n",
       "      <th>opp_reach</th>\n",
       "      <th>wins</th>\n",
       "      <th>losses</th>\n",
       "      <th>draw</th>\n",
       "      <th>fighter_age</th>\n",
       "      <th>opp_age</th>\n",
       "      <th>win</th>\n",
       "      <th>w_streak</th>\n",
       "      <th>l_streak</th>\n",
       "      <th>opp_wins</th>\n",
       "      <th>opp_losses</th>\n",
       "      <th>opp_draw</th>\n",
       "      <th>opp_w_streak</th>\n",
       "      <th>opp_l_streak</th>\n",
       "    </tr>\n",
       "  </thead>\n",
       "  <tbody>\n",
       "    <tr>\n",
       "      <th>294</th>\n",
       "      <td>2023-11-11</td>\n",
       "      <td>Viacheslav Borshchev</td>\n",
       "      <td>Nazim Sadykhov</td>\n",
       "      <td>71</td>\n",
       "      <td>69</td>\n",
       "      <td>70</td>\n",
       "      <td>69</td>\n",
       "      <td>7</td>\n",
       "      <td>3</td>\n",
       "      <td>0</td>\n",
       "      <td>11630</td>\n",
       "      <td>10771</td>\n",
       "      <td>0.0</td>\n",
       "      <td>1.0</td>\n",
       "      <td>0.0</td>\n",
       "      <td>9</td>\n",
       "      <td>1</td>\n",
       "      <td>0</td>\n",
       "      <td>2.0</td>\n",
       "      <td>0.0</td>\n",
       "    </tr>\n",
       "    <tr>\n",
       "      <th>503</th>\n",
       "      <td>2023-11-11</td>\n",
       "      <td>Tom Aspinall</td>\n",
       "      <td>Sergei Pavlovich</td>\n",
       "      <td>77</td>\n",
       "      <td>78</td>\n",
       "      <td>75</td>\n",
       "      <td>84</td>\n",
       "      <td>13</td>\n",
       "      <td>3</td>\n",
       "      <td>0</td>\n",
       "      <td>11171</td>\n",
       "      <td>11504</td>\n",
       "      <td>0.0</td>\n",
       "      <td>5.0</td>\n",
       "      <td>0.0</td>\n",
       "      <td>17</td>\n",
       "      <td>1</td>\n",
       "      <td>0</td>\n",
       "      <td>3.0</td>\n",
       "      <td>0.0</td>\n",
       "    </tr>\n",
       "    <tr>\n",
       "      <th>816</th>\n",
       "      <td>2023-11-11</td>\n",
       "      <td>Tabatha Ricci</td>\n",
       "      <td>Loopy Godinez</td>\n",
       "      <td>61</td>\n",
       "      <td>61</td>\n",
       "      <td>62</td>\n",
       "      <td>61</td>\n",
       "      <td>9</td>\n",
       "      <td>1</td>\n",
       "      <td>0</td>\n",
       "      <td>10490</td>\n",
       "      <td>11023</td>\n",
       "      <td>0.0</td>\n",
       "      <td>3.0</td>\n",
       "      <td>0.0</td>\n",
       "      <td>11</td>\n",
       "      <td>3</td>\n",
       "      <td>0</td>\n",
       "      <td>3.0</td>\n",
       "      <td>0.0</td>\n",
       "    </tr>\n",
       "    <tr>\n",
       "      <th>883</th>\n",
       "      <td>2023-11-11</td>\n",
       "      <td>Steve Erceg</td>\n",
       "      <td>Alessandro Costa</td>\n",
       "      <td>68</td>\n",
       "      <td>68</td>\n",
       "      <td>64</td>\n",
       "      <td>67</td>\n",
       "      <td>10</td>\n",
       "      <td>1</td>\n",
       "      <td>0</td>\n",
       "      <td>10334</td>\n",
       "      <td>10149</td>\n",
       "      <td>0.0</td>\n",
       "      <td>1.0</td>\n",
       "      <td>0.0</td>\n",
       "      <td>13</td>\n",
       "      <td>3</td>\n",
       "      <td>0</td>\n",
       "      <td>1.0</td>\n",
       "      <td>0.0</td>\n",
       "    </tr>\n",
       "    <tr>\n",
       "      <th>1122</th>\n",
       "      <td>2023-11-11</td>\n",
       "      <td>Sergei Pavlovich</td>\n",
       "      <td>Tom Aspinall</td>\n",
       "      <td>75</td>\n",
       "      <td>84</td>\n",
       "      <td>77</td>\n",
       "      <td>78</td>\n",
       "      <td>17</td>\n",
       "      <td>1</td>\n",
       "      <td>0</td>\n",
       "      <td>11504</td>\n",
       "      <td>11171</td>\n",
       "      <td>0.0</td>\n",
       "      <td>3.0</td>\n",
       "      <td>0.0</td>\n",
       "      <td>13</td>\n",
       "      <td>3</td>\n",
       "      <td>0</td>\n",
       "      <td>5.0</td>\n",
       "      <td>0.0</td>\n",
       "    </tr>\n",
       "    <tr>\n",
       "      <th>2061</th>\n",
       "      <td>2023-11-11</td>\n",
       "      <td>Pat Sabatini</td>\n",
       "      <td>Diego Lopes</td>\n",
       "      <td>68</td>\n",
       "      <td>70</td>\n",
       "      <td>71</td>\n",
       "      <td>72</td>\n",
       "      <td>17</td>\n",
       "      <td>4</td>\n",
       "      <td>0</td>\n",
       "      <td>12055</td>\n",
       "      <td>10543</td>\n",
       "      <td>0.0</td>\n",
       "      <td>0.0</td>\n",
       "      <td>1.0</td>\n",
       "      <td>22</td>\n",
       "      <td>6</td>\n",
       "      <td>0</td>\n",
       "      <td>1.0</td>\n",
       "      <td>0.0</td>\n",
       "    </tr>\n",
       "    <tr>\n",
       "      <th>2303</th>\n",
       "      <td>2023-11-11</td>\n",
       "      <td>Nazim Sadykhov</td>\n",
       "      <td>Viacheslav Borshchev</td>\n",
       "      <td>70</td>\n",
       "      <td>69</td>\n",
       "      <td>71</td>\n",
       "      <td>69</td>\n",
       "      <td>9</td>\n",
       "      <td>1</td>\n",
       "      <td>0</td>\n",
       "      <td>10771</td>\n",
       "      <td>11630</td>\n",
       "      <td>0.0</td>\n",
       "      <td>2.0</td>\n",
       "      <td>0.0</td>\n",
       "      <td>7</td>\n",
       "      <td>3</td>\n",
       "      <td>0</td>\n",
       "      <td>1.0</td>\n",
       "      <td>0.0</td>\n",
       "    </tr>\n",
       "    <tr>\n",
       "      <th>3012</th>\n",
       "      <td>2023-11-11</td>\n",
       "      <td>Matt Frevola</td>\n",
       "      <td>Benoit Saint Denis</td>\n",
       "      <td>69</td>\n",
       "      <td>71</td>\n",
       "      <td>71</td>\n",
       "      <td>73</td>\n",
       "      <td>10</td>\n",
       "      <td>3</td>\n",
       "      <td>0</td>\n",
       "      <td>12206</td>\n",
       "      <td>10190</td>\n",
       "      <td>0.0</td>\n",
       "      <td>1.0</td>\n",
       "      <td>0.0</td>\n",
       "      <td>12</td>\n",
       "      <td>1</td>\n",
       "      <td>0</td>\n",
       "      <td>4.0</td>\n",
       "      <td>0.0</td>\n",
       "    </tr>\n",
       "    <tr>\n",
       "      <th>3159</th>\n",
       "      <td>2023-11-11</td>\n",
       "      <td>Mark Madsen</td>\n",
       "      <td>Jared Gordon</td>\n",
       "      <td>68</td>\n",
       "      <td>72</td>\n",
       "      <td>69</td>\n",
       "      <td>68</td>\n",
       "      <td>12</td>\n",
       "      <td>1</td>\n",
       "      <td>0</td>\n",
       "      <td>14293</td>\n",
       "      <td>12849</td>\n",
       "      <td>0.0</td>\n",
       "      <td>0.0</td>\n",
       "      <td>1.0</td>\n",
       "      <td>19</td>\n",
       "      <td>6</td>\n",
       "      <td>0</td>\n",
       "      <td>0.0</td>\n",
       "      <td>1.0</td>\n",
       "    </tr>\n",
       "    <tr>\n",
       "      <th>3387</th>\n",
       "      <td>2023-11-11</td>\n",
       "      <td>Mackenzie Dern</td>\n",
       "      <td>Jessica Andrade</td>\n",
       "      <td>64</td>\n",
       "      <td>63</td>\n",
       "      <td>61</td>\n",
       "      <td>62</td>\n",
       "      <td>13</td>\n",
       "      <td>3</td>\n",
       "      <td>0</td>\n",
       "      <td>11189</td>\n",
       "      <td>11735</td>\n",
       "      <td>0.0</td>\n",
       "      <td>2.0</td>\n",
       "      <td>0.0</td>\n",
       "      <td>24</td>\n",
       "      <td>12</td>\n",
       "      <td>0</td>\n",
       "      <td>0.0</td>\n",
       "      <td>2.0</td>\n",
       "    </tr>\n",
       "    <tr>\n",
       "      <th>3512</th>\n",
       "      <td>2023-11-11</td>\n",
       "      <td>Loopy Godinez</td>\n",
       "      <td>Tabatha Ricci</td>\n",
       "      <td>62</td>\n",
       "      <td>61</td>\n",
       "      <td>61</td>\n",
       "      <td>61</td>\n",
       "      <td>11</td>\n",
       "      <td>3</td>\n",
       "      <td>0</td>\n",
       "      <td>11023</td>\n",
       "      <td>10490</td>\n",
       "      <td>0.0</td>\n",
       "      <td>3.0</td>\n",
       "      <td>0.0</td>\n",
       "      <td>9</td>\n",
       "      <td>1</td>\n",
       "      <td>0</td>\n",
       "      <td>3.0</td>\n",
       "      <td>0.0</td>\n",
       "    </tr>\n",
       "    <tr>\n",
       "      <th>3622</th>\n",
       "      <td>2023-11-11</td>\n",
       "      <td>Kyung Ho Kang</td>\n",
       "      <td>John Castaneda</td>\n",
       "      <td>69</td>\n",
       "      <td>73</td>\n",
       "      <td>66</td>\n",
       "      <td>71</td>\n",
       "      <td>15</td>\n",
       "      <td>8</td>\n",
       "      <td>0</td>\n",
       "      <td>13212</td>\n",
       "      <td>11651</td>\n",
       "      <td>0.0</td>\n",
       "      <td>1.0</td>\n",
       "      <td>0.0</td>\n",
       "      <td>19</td>\n",
       "      <td>5</td>\n",
       "      <td>0</td>\n",
       "      <td>2.0</td>\n",
       "      <td>0.0</td>\n",
       "    </tr>\n",
       "    <tr>\n",
       "      <th>4418</th>\n",
       "      <td>2023-11-11</td>\n",
       "      <td>John Castaneda</td>\n",
       "      <td>Kyung Ho Kang</td>\n",
       "      <td>66</td>\n",
       "      <td>71</td>\n",
       "      <td>69</td>\n",
       "      <td>73</td>\n",
       "      <td>19</td>\n",
       "      <td>5</td>\n",
       "      <td>0</td>\n",
       "      <td>11651</td>\n",
       "      <td>13212</td>\n",
       "      <td>0.0</td>\n",
       "      <td>2.0</td>\n",
       "      <td>0.0</td>\n",
       "      <td>15</td>\n",
       "      <td>8</td>\n",
       "      <td>0</td>\n",
       "      <td>1.0</td>\n",
       "      <td>0.0</td>\n",
       "    </tr>\n",
       "    <tr>\n",
       "      <th>4548</th>\n",
       "      <td>2023-11-11</td>\n",
       "      <td>Jiri Prochazka</td>\n",
       "      <td>Alex Pereira</td>\n",
       "      <td>75</td>\n",
       "      <td>80</td>\n",
       "      <td>76</td>\n",
       "      <td>79</td>\n",
       "      <td>29</td>\n",
       "      <td>3</td>\n",
       "      <td>0</td>\n",
       "      <td>11350</td>\n",
       "      <td>13276</td>\n",
       "      <td>0.0</td>\n",
       "      <td>3.0</td>\n",
       "      <td>0.0</td>\n",
       "      <td>8</td>\n",
       "      <td>2</td>\n",
       "      <td>0</td>\n",
       "      <td>1.0</td>\n",
       "      <td>0.0</td>\n",
       "    </tr>\n",
       "    <tr>\n",
       "      <th>4621</th>\n",
       "      <td>2023-11-11</td>\n",
       "      <td>Jessica Andrade</td>\n",
       "      <td>Mackenzie Dern</td>\n",
       "      <td>61</td>\n",
       "      <td>62</td>\n",
       "      <td>64</td>\n",
       "      <td>63</td>\n",
       "      <td>24</td>\n",
       "      <td>12</td>\n",
       "      <td>0</td>\n",
       "      <td>11735</td>\n",
       "      <td>11189</td>\n",
       "      <td>0.0</td>\n",
       "      <td>0.0</td>\n",
       "      <td>2.0</td>\n",
       "      <td>13</td>\n",
       "      <td>3</td>\n",
       "      <td>0</td>\n",
       "      <td>2.0</td>\n",
       "      <td>0.0</td>\n",
       "    </tr>\n",
       "    <tr>\n",
       "      <th>4790</th>\n",
       "      <td>2023-11-11</td>\n",
       "      <td>Jared Gordon</td>\n",
       "      <td>Mark Madsen</td>\n",
       "      <td>69</td>\n",
       "      <td>68</td>\n",
       "      <td>68</td>\n",
       "      <td>72</td>\n",
       "      <td>19</td>\n",
       "      <td>6</td>\n",
       "      <td>0</td>\n",
       "      <td>12849</td>\n",
       "      <td>14293</td>\n",
       "      <td>0.0</td>\n",
       "      <td>0.0</td>\n",
       "      <td>1.0</td>\n",
       "      <td>12</td>\n",
       "      <td>1</td>\n",
       "      <td>0</td>\n",
       "      <td>0.0</td>\n",
       "      <td>1.0</td>\n",
       "    </tr>\n",
       "    <tr>\n",
       "      <th>4887</th>\n",
       "      <td>2023-11-11</td>\n",
       "      <td>Jamall Emmers</td>\n",
       "      <td>Dennis Buzukja</td>\n",
       "      <td>70</td>\n",
       "      <td>74</td>\n",
       "      <td>69</td>\n",
       "      <td>70</td>\n",
       "      <td>18</td>\n",
       "      <td>6</td>\n",
       "      <td>0</td>\n",
       "      <td>12528</td>\n",
       "      <td>9537</td>\n",
       "      <td>0.0</td>\n",
       "      <td>0.0</td>\n",
       "      <td>2.0</td>\n",
       "      <td>11</td>\n",
       "      <td>3</td>\n",
       "      <td>0</td>\n",
       "      <td>0.0</td>\n",
       "      <td>1.0</td>\n",
       "    </tr>\n",
       "    <tr>\n",
       "      <th>6037</th>\n",
       "      <td>2023-11-11</td>\n",
       "      <td>Diego Lopes</td>\n",
       "      <td>Pat Sabatini</td>\n",
       "      <td>71</td>\n",
       "      <td>72</td>\n",
       "      <td>68</td>\n",
       "      <td>70</td>\n",
       "      <td>22</td>\n",
       "      <td>6</td>\n",
       "      <td>0</td>\n",
       "      <td>10543</td>\n",
       "      <td>12055</td>\n",
       "      <td>0.0</td>\n",
       "      <td>1.0</td>\n",
       "      <td>0.0</td>\n",
       "      <td>17</td>\n",
       "      <td>4</td>\n",
       "      <td>0</td>\n",
       "      <td>0.0</td>\n",
       "      <td>1.0</td>\n",
       "    </tr>\n",
       "    <tr>\n",
       "      <th>6140</th>\n",
       "      <td>2023-11-11</td>\n",
       "      <td>Dennis Buzukja</td>\n",
       "      <td>Jamall Emmers</td>\n",
       "      <td>69</td>\n",
       "      <td>70</td>\n",
       "      <td>70</td>\n",
       "      <td>74</td>\n",
       "      <td>11</td>\n",
       "      <td>3</td>\n",
       "      <td>0</td>\n",
       "      <td>9537</td>\n",
       "      <td>12528</td>\n",
       "      <td>0.0</td>\n",
       "      <td>0.0</td>\n",
       "      <td>1.0</td>\n",
       "      <td>18</td>\n",
       "      <td>6</td>\n",
       "      <td>0</td>\n",
       "      <td>0.0</td>\n",
       "      <td>2.0</td>\n",
       "    </tr>\n",
       "    <tr>\n",
       "      <th>7408</th>\n",
       "      <td>2023-11-11</td>\n",
       "      <td>Benoit Saint Denis</td>\n",
       "      <td>Matt Frevola</td>\n",
       "      <td>71</td>\n",
       "      <td>73</td>\n",
       "      <td>69</td>\n",
       "      <td>71</td>\n",
       "      <td>12</td>\n",
       "      <td>1</td>\n",
       "      <td>0</td>\n",
       "      <td>10190</td>\n",
       "      <td>12206</td>\n",
       "      <td>0.0</td>\n",
       "      <td>4.0</td>\n",
       "      <td>0.0</td>\n",
       "      <td>10</td>\n",
       "      <td>3</td>\n",
       "      <td>0</td>\n",
       "      <td>1.0</td>\n",
       "      <td>0.0</td>\n",
       "    </tr>\n",
       "    <tr>\n",
       "      <th>7951</th>\n",
       "      <td>2023-11-11</td>\n",
       "      <td>Alex Pereira</td>\n",
       "      <td>Jiri Prochazka</td>\n",
       "      <td>76</td>\n",
       "      <td>79</td>\n",
       "      <td>75</td>\n",
       "      <td>80</td>\n",
       "      <td>8</td>\n",
       "      <td>2</td>\n",
       "      <td>0</td>\n",
       "      <td>13276</td>\n",
       "      <td>11350</td>\n",
       "      <td>0.0</td>\n",
       "      <td>1.0</td>\n",
       "      <td>0.0</td>\n",
       "      <td>29</td>\n",
       "      <td>3</td>\n",
       "      <td>0</td>\n",
       "      <td>3.0</td>\n",
       "      <td>0.0</td>\n",
       "    </tr>\n",
       "    <tr>\n",
       "      <th>7998</th>\n",
       "      <td>2023-11-11</td>\n",
       "      <td>Alessandro Costa</td>\n",
       "      <td>Steve Erceg</td>\n",
       "      <td>64</td>\n",
       "      <td>67</td>\n",
       "      <td>68</td>\n",
       "      <td>68</td>\n",
       "      <td>13</td>\n",
       "      <td>3</td>\n",
       "      <td>0</td>\n",
       "      <td>10149</td>\n",
       "      <td>10334</td>\n",
       "      <td>0.0</td>\n",
       "      <td>1.0</td>\n",
       "      <td>0.0</td>\n",
       "      <td>10</td>\n",
       "      <td>1</td>\n",
       "      <td>0</td>\n",
       "      <td>1.0</td>\n",
       "      <td>0.0</td>\n",
       "    </tr>\n",
       "  </tbody>\n",
       "</table>\n",
       "</div>"
      ],
      "text/plain": [
       "           date               fighter              opponent  fighter_ht  \\\n",
       "294  2023-11-11  Viacheslav Borshchev        Nazim Sadykhov          71   \n",
       "503  2023-11-11          Tom Aspinall      Sergei Pavlovich          77   \n",
       "816  2023-11-11         Tabatha Ricci         Loopy Godinez          61   \n",
       "883  2023-11-11           Steve Erceg      Alessandro Costa          68   \n",
       "1122 2023-11-11      Sergei Pavlovich          Tom Aspinall          75   \n",
       "2061 2023-11-11          Pat Sabatini           Diego Lopes          68   \n",
       "2303 2023-11-11        Nazim Sadykhov  Viacheslav Borshchev          70   \n",
       "3012 2023-11-11          Matt Frevola    Benoit Saint Denis          69   \n",
       "3159 2023-11-11           Mark Madsen          Jared Gordon          68   \n",
       "3387 2023-11-11        Mackenzie Dern       Jessica Andrade          64   \n",
       "3512 2023-11-11         Loopy Godinez         Tabatha Ricci          62   \n",
       "3622 2023-11-11         Kyung Ho Kang        John Castaneda          69   \n",
       "4418 2023-11-11        John Castaneda         Kyung Ho Kang          66   \n",
       "4548 2023-11-11        Jiri Prochazka          Alex Pereira          75   \n",
       "4621 2023-11-11       Jessica Andrade        Mackenzie Dern          61   \n",
       "4790 2023-11-11          Jared Gordon           Mark Madsen          69   \n",
       "4887 2023-11-11         Jamall Emmers        Dennis Buzukja          70   \n",
       "6037 2023-11-11           Diego Lopes          Pat Sabatini          71   \n",
       "6140 2023-11-11        Dennis Buzukja         Jamall Emmers          69   \n",
       "7408 2023-11-11    Benoit Saint Denis          Matt Frevola          71   \n",
       "7951 2023-11-11          Alex Pereira        Jiri Prochazka          76   \n",
       "7998 2023-11-11      Alessandro Costa           Steve Erceg          64   \n",
       "\n",
       "      fighter_reach  opp_ht  opp_reach  wins  losses  draw  fighter_age  \\\n",
       "294              69      70         69     7       3     0        11630   \n",
       "503              78      75         84    13       3     0        11171   \n",
       "816              61      62         61     9       1     0        10490   \n",
       "883              68      64         67    10       1     0        10334   \n",
       "1122             84      77         78    17       1     0        11504   \n",
       "2061             70      71         72    17       4     0        12055   \n",
       "2303             69      71         69     9       1     0        10771   \n",
       "3012             71      71         73    10       3     0        12206   \n",
       "3159             72      69         68    12       1     0        14293   \n",
       "3387             63      61         62    13       3     0        11189   \n",
       "3512             61      61         61    11       3     0        11023   \n",
       "3622             73      66         71    15       8     0        13212   \n",
       "4418             71      69         73    19       5     0        11651   \n",
       "4548             80      76         79    29       3     0        11350   \n",
       "4621             62      64         63    24      12     0        11735   \n",
       "4790             68      68         72    19       6     0        12849   \n",
       "4887             74      69         70    18       6     0        12528   \n",
       "6037             72      68         70    22       6     0        10543   \n",
       "6140             70      70         74    11       3     0         9537   \n",
       "7408             73      69         71    12       1     0        10190   \n",
       "7951             79      75         80     8       2     0        13276   \n",
       "7998             67      68         68    13       3     0        10149   \n",
       "\n",
       "      opp_age  win  w_streak  l_streak  opp_wins  opp_losses  opp_draw  \\\n",
       "294     10771  0.0       1.0       0.0         9           1         0   \n",
       "503     11504  0.0       5.0       0.0        17           1         0   \n",
       "816     11023  0.0       3.0       0.0        11           3         0   \n",
       "883     10149  0.0       1.0       0.0        13           3         0   \n",
       "1122    11171  0.0       3.0       0.0        13           3         0   \n",
       "2061    10543  0.0       0.0       1.0        22           6         0   \n",
       "2303    11630  0.0       2.0       0.0         7           3         0   \n",
       "3012    10190  0.0       1.0       0.0        12           1         0   \n",
       "3159    12849  0.0       0.0       1.0        19           6         0   \n",
       "3387    11735  0.0       2.0       0.0        24          12         0   \n",
       "3512    10490  0.0       3.0       0.0         9           1         0   \n",
       "3622    11651  0.0       1.0       0.0        19           5         0   \n",
       "4418    13212  0.0       2.0       0.0        15           8         0   \n",
       "4548    13276  0.0       3.0       0.0         8           2         0   \n",
       "4621    11189  0.0       0.0       2.0        13           3         0   \n",
       "4790    14293  0.0       0.0       1.0        12           1         0   \n",
       "4887     9537  0.0       0.0       2.0        11           3         0   \n",
       "6037    12055  0.0       1.0       0.0        17           4         0   \n",
       "6140    12528  0.0       0.0       1.0        18           6         0   \n",
       "7408    12206  0.0       4.0       0.0        10           3         0   \n",
       "7951    11350  0.0       1.0       0.0        29           3         0   \n",
       "7998    10334  0.0       1.0       0.0        10           1         0   \n",
       "\n",
       "      opp_w_streak  opp_l_streak  \n",
       "294            2.0           0.0  \n",
       "503            3.0           0.0  \n",
       "816            3.0           0.0  \n",
       "883            1.0           0.0  \n",
       "1122           5.0           0.0  \n",
       "2061           1.0           0.0  \n",
       "2303           1.0           0.0  \n",
       "3012           4.0           0.0  \n",
       "3159           0.0           1.0  \n",
       "3387           0.0           2.0  \n",
       "3512           3.0           0.0  \n",
       "3622           2.0           0.0  \n",
       "4418           1.0           0.0  \n",
       "4548           1.0           0.0  \n",
       "4621           2.0           0.0  \n",
       "4790           0.0           1.0  \n",
       "4887           0.0           1.0  \n",
       "6037           0.0           1.0  \n",
       "6140           0.0           2.0  \n",
       "7408           1.0           0.0  \n",
       "7951           3.0           0.0  \n",
       "7998           1.0           0.0  "
      ]
     },
     "execution_count": 1774,
     "metadata": {},
     "output_type": "execute_result"
    }
   ],
   "source": [
    "cf2[cf2['date']== '2023-11-11']"
   ]
  },
  {
   "cell_type": "code",
   "execution_count": 1608,
   "id": "be4d3ada",
   "metadata": {},
   "outputs": [],
   "source": [
    "cf2 = cf2.dropna(subset=['date', 'fighter', 'opponent', 'fighter_ht', 'fighter_reach',\n",
    "       'opp_ht', 'opp_reach', 'wins', 'losses', 'draw', 'opp_wins',\n",
    "       'opp_losses', 'opp_draw', 'fighter_age', 'opp_age', 'w_streak', 'l_streak',\n",
    "       'opp_w_streak', 'opp_l_streak'])"
   ]
  },
  {
   "cell_type": "markdown",
   "id": "63b35227",
   "metadata": {},
   "source": [
    "# Changing the feature columns to integer data types"
   ]
  },
  {
   "cell_type": "code",
   "execution_count": 1609,
   "id": "00d3ba10",
   "metadata": {},
   "outputs": [],
   "source": [
    "cf2['fighter_age'] = cf2['fighter_age'].astype(int)\n",
    "\n",
    "cf2['opp_age'] = cf2['opp_age'].astype(int)\n",
    "cf2['wins'] = cf2['wins'].astype(int)\n",
    "cf2['losses'] = cf2['losses'].astype(int)\n",
    "cf2['draw'] = cf2['draw'].astype(int)\n",
    "cf2['opp_wins'] = cf2['opp_wins'].astype(int)\n",
    "cf2['opp_losses'] = cf2['opp_losses'].astype(int)\n",
    "cf2['opp_draw'] = cf2['opp_draw'].astype(int)"
   ]
  },
  {
   "cell_type": "markdown",
   "id": "9022820f",
   "metadata": {},
   "source": [
    "# Creating a df for the upcoming event"
   ]
  },
  {
   "cell_type": "code",
   "execution_count": 1610,
   "id": "1e26e39b",
   "metadata": {},
   "outputs": [],
   "source": [
    "cf3 = cf2[cf2['date']=='2023-11-11']"
   ]
  },
  {
   "cell_type": "markdown",
   "id": "46dbed8e",
   "metadata": {},
   "source": [
    "# Using are model and selecting for rows with results that are in agreement, we get our predictions for the upcoming event."
   ]
  },
  {
   "cell_type": "code",
   "execution_count": 1776,
   "id": "0bcaed1c",
   "metadata": {},
   "outputs": [],
   "source": [
    "p = rf.predict(cf3[predictors])\n",
    "\n",
    "pp = pd.DataFrame(dict(prediction=p), index=cf3.index)\n",
    "\n",
    "ppp = pp.merge(cf3[['date', 'fighter', 'opponent', 'win']], left_index=True, right_index=True)"
   ]
  },
  {
   "cell_type": "code",
   "execution_count": 1777,
   "id": "a50030c4",
   "metadata": {},
   "outputs": [],
   "source": [
    "merged = ppp.merge(ppp, left_on=['date', 'fighter'], right_on=['date', 'opponent'])\n",
    "\n",
    "yy = merged[(merged.prediction_x==1) & (merged.prediction_y==0)]"
   ]
  },
  {
   "cell_type": "code",
   "execution_count": 1778,
   "id": "d3c28e5a",
   "metadata": {},
   "outputs": [
    {
     "data": {
      "text/html": [
       "<div>\n",
       "<style scoped>\n",
       "    .dataframe tbody tr th:only-of-type {\n",
       "        vertical-align: middle;\n",
       "    }\n",
       "\n",
       "    .dataframe tbody tr th {\n",
       "        vertical-align: top;\n",
       "    }\n",
       "\n",
       "    .dataframe thead th {\n",
       "        text-align: right;\n",
       "    }\n",
       "</style>\n",
       "<table border=\"1\" class=\"dataframe\">\n",
       "  <thead>\n",
       "    <tr style=\"text-align: right;\">\n",
       "      <th></th>\n",
       "      <th>prediction_x</th>\n",
       "      <th>date</th>\n",
       "      <th>fighter_x</th>\n",
       "      <th>opponent_x</th>\n",
       "      <th>win_x</th>\n",
       "      <th>prediction_y</th>\n",
       "      <th>fighter_y</th>\n",
       "      <th>opponent_y</th>\n",
       "      <th>win_y</th>\n",
       "    </tr>\n",
       "  </thead>\n",
       "  <tbody>\n",
       "    <tr>\n",
       "      <th>2</th>\n",
       "      <td>1</td>\n",
       "      <td>2023-11-11</td>\n",
       "      <td>Tabatha Ricci</td>\n",
       "      <td>Loopy Godinez</td>\n",
       "      <td>0.0</td>\n",
       "      <td>0</td>\n",
       "      <td>Loopy Godinez</td>\n",
       "      <td>Tabatha Ricci</td>\n",
       "      <td>0.0</td>\n",
       "    </tr>\n",
       "    <tr>\n",
       "      <th>4</th>\n",
       "      <td>1</td>\n",
       "      <td>2023-11-11</td>\n",
       "      <td>Sergei Pavlovich</td>\n",
       "      <td>Tom Aspinall</td>\n",
       "      <td>0.0</td>\n",
       "      <td>0</td>\n",
       "      <td>Tom Aspinall</td>\n",
       "      <td>Sergei Pavlovich</td>\n",
       "      <td>0.0</td>\n",
       "    </tr>\n",
       "    <tr>\n",
       "      <th>6</th>\n",
       "      <td>1</td>\n",
       "      <td>2023-11-11</td>\n",
       "      <td>Nazim Sadykhov</td>\n",
       "      <td>Viacheslav Borshchev</td>\n",
       "      <td>0.0</td>\n",
       "      <td>0</td>\n",
       "      <td>Viacheslav Borshchev</td>\n",
       "      <td>Nazim Sadykhov</td>\n",
       "      <td>0.0</td>\n",
       "    </tr>\n",
       "    <tr>\n",
       "      <th>9</th>\n",
       "      <td>1</td>\n",
       "      <td>2023-11-11</td>\n",
       "      <td>Mackenzie Dern</td>\n",
       "      <td>Jessica Andrade</td>\n",
       "      <td>0.0</td>\n",
       "      <td>0</td>\n",
       "      <td>Jessica Andrade</td>\n",
       "      <td>Mackenzie Dern</td>\n",
       "      <td>0.0</td>\n",
       "    </tr>\n",
       "    <tr>\n",
       "      <th>12</th>\n",
       "      <td>1</td>\n",
       "      <td>2023-11-11</td>\n",
       "      <td>John Castaneda</td>\n",
       "      <td>Kyung Ho Kang</td>\n",
       "      <td>0.0</td>\n",
       "      <td>0</td>\n",
       "      <td>Kyung Ho Kang</td>\n",
       "      <td>John Castaneda</td>\n",
       "      <td>0.0</td>\n",
       "    </tr>\n",
       "    <tr>\n",
       "      <th>13</th>\n",
       "      <td>1</td>\n",
       "      <td>2023-11-11</td>\n",
       "      <td>Jiri Prochazka</td>\n",
       "      <td>Alex Pereira</td>\n",
       "      <td>0.0</td>\n",
       "      <td>0</td>\n",
       "      <td>Alex Pereira</td>\n",
       "      <td>Jiri Prochazka</td>\n",
       "      <td>0.0</td>\n",
       "    </tr>\n",
       "    <tr>\n",
       "      <th>17</th>\n",
       "      <td>1</td>\n",
       "      <td>2023-11-11</td>\n",
       "      <td>Diego Lopes</td>\n",
       "      <td>Pat Sabatini</td>\n",
       "      <td>0.0</td>\n",
       "      <td>0</td>\n",
       "      <td>Pat Sabatini</td>\n",
       "      <td>Diego Lopes</td>\n",
       "      <td>0.0</td>\n",
       "    </tr>\n",
       "    <tr>\n",
       "      <th>18</th>\n",
       "      <td>1</td>\n",
       "      <td>2023-11-11</td>\n",
       "      <td>Dennis Buzukja</td>\n",
       "      <td>Jamall Emmers</td>\n",
       "      <td>0.0</td>\n",
       "      <td>0</td>\n",
       "      <td>Jamall Emmers</td>\n",
       "      <td>Dennis Buzukja</td>\n",
       "      <td>0.0</td>\n",
       "    </tr>\n",
       "    <tr>\n",
       "      <th>19</th>\n",
       "      <td>1</td>\n",
       "      <td>2023-11-11</td>\n",
       "      <td>Benoit Saint Denis</td>\n",
       "      <td>Matt Frevola</td>\n",
       "      <td>0.0</td>\n",
       "      <td>0</td>\n",
       "      <td>Matt Frevola</td>\n",
       "      <td>Benoit Saint Denis</td>\n",
       "      <td>0.0</td>\n",
       "    </tr>\n",
       "  </tbody>\n",
       "</table>\n",
       "</div>"
      ],
      "text/plain": [
       "    prediction_x       date           fighter_x            opponent_x  win_x  \\\n",
       "2              1 2023-11-11       Tabatha Ricci         Loopy Godinez    0.0   \n",
       "4              1 2023-11-11    Sergei Pavlovich          Tom Aspinall    0.0   \n",
       "6              1 2023-11-11      Nazim Sadykhov  Viacheslav Borshchev    0.0   \n",
       "9              1 2023-11-11      Mackenzie Dern       Jessica Andrade    0.0   \n",
       "12             1 2023-11-11      John Castaneda         Kyung Ho Kang    0.0   \n",
       "13             1 2023-11-11      Jiri Prochazka          Alex Pereira    0.0   \n",
       "17             1 2023-11-11         Diego Lopes          Pat Sabatini    0.0   \n",
       "18             1 2023-11-11      Dennis Buzukja         Jamall Emmers    0.0   \n",
       "19             1 2023-11-11  Benoit Saint Denis          Matt Frevola    0.0   \n",
       "\n",
       "    prediction_y             fighter_y          opponent_y  win_y  \n",
       "2              0         Loopy Godinez       Tabatha Ricci    0.0  \n",
       "4              0          Tom Aspinall    Sergei Pavlovich    0.0  \n",
       "6              0  Viacheslav Borshchev      Nazim Sadykhov    0.0  \n",
       "9              0       Jessica Andrade      Mackenzie Dern    0.0  \n",
       "12             0         Kyung Ho Kang      John Castaneda    0.0  \n",
       "13             0          Alex Pereira      Jiri Prochazka    0.0  \n",
       "17             0          Pat Sabatini         Diego Lopes    0.0  \n",
       "18             0         Jamall Emmers      Dennis Buzukja    0.0  \n",
       "19             0          Matt Frevola  Benoit Saint Denis    0.0  "
      ]
     },
     "execution_count": 1778,
     "metadata": {},
     "output_type": "execute_result"
    }
   ],
   "source": [
    "yy"
   ]
  },
  {
   "cell_type": "code",
   "execution_count": null,
   "id": "b3ad050a",
   "metadata": {},
   "outputs": [],
   "source": []
  }
 ],
 "metadata": {
  "kernelspec": {
   "display_name": "Python 3 (ipykernel)",
   "language": "python",
   "name": "python3"
  },
  "language_info": {
   "codemirror_mode": {
    "name": "ipython",
    "version": 3
   },
   "file_extension": ".py",
   "mimetype": "text/x-python",
   "name": "python",
   "nbconvert_exporter": "python",
   "pygments_lexer": "ipython3",
   "version": "3.8.2"
  }
 },
 "nbformat": 4,
 "nbformat_minor": 5
}
